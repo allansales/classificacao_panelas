{
  "nbformat": 4,
  "nbformat_minor": 0,
  "metadata": {
    "colab": {
      "provenance": [],
      "authorship_tag": "ABX9TyOaY5EKnq8yFO7OVz+hNeWE",
      "include_colab_link": true
    },
    "kernelspec": {
      "name": "python3",
      "display_name": "Python 3"
    }
  },
  "cells": [
    {
      "cell_type": "markdown",
      "metadata": {
        "id": "view-in-github",
        "colab_type": "text"
      },
      "source": [
        "<a href=\"https://colab.research.google.com/github/allansales/classificacao_panelas/blob/main/Classifica%C3%A7%C3%A3o_de_interesse.ipynb\" target=\"_parent\"><img src=\"https://colab.research.google.com/assets/colab-badge.svg\" alt=\"Open In Colab\"/></a>"
      ]
    },
    {
      "cell_type": "markdown",
      "metadata": {
        "id": "iyeSWIeB4Z8o"
      },
      "source": [
        "# **Dependência**\n",
        "Caso deseje executar o código, antes de começar, por favor, descomente o comando abaixo e instale o pacote **miceforest**.\n",
        "Após instalação, talvez seja necessário reiniciar o *runtime*."
      ]
    },
    {
      "cell_type": "code",
      "metadata": {
        "id": "X8E4efXV8NVn"
      },
      "source": [
        "#pip install miceforest"
      ],
      "execution_count": null,
      "outputs": []
    },
    {
      "cell_type": "markdown",
      "metadata": {
        "id": "rE8DHpYzzG9a"
      },
      "source": [
        "# **Introdução**\n",
        "\n",
        "## **Objetivo**\n",
        "\n",
        "Neste notebook, nós compararemos dois modelos com relação ao seu desempenho na classificação de produtos como \"interessante\" ou \"não interessante\" para o cliente, e indicaremos quais atributos foram mais importantes para a classificação.\n",
        "\n",
        "## **Estruturação do notebook**\n",
        "\n",
        "O notebook está dividido em quatro partes:\n",
        "\n",
        "1.   **Exploração dos dados**. Onde realizaremos analise exploratória inicial da base de dados, isto é, entenderemos como os dados estão estruturados e tomaremos decisões a respeito de possíveis dados ausentes e desbalanceamento de classes;\n",
        "2.   **Divisão em treino e teste**. Dividiremos a base de dados em base de treino e base de teste, sendo a base de treino utilizado para treinar os modelos desenvolvidos e a base de teste utilizada para comparar os seus resultados;\n",
        "3.   **Treinar modelos de classificação**. Escolheremos alguns algoritmos de classificação que parecem mais adequados para a tarefa e os tunaremos de acordo com a base de treino;\n",
        "4.   **Análise dos modelos**. Testaremos os modelos na nossa base de teste, comparando os seus desempenhos e indicando quais features se fizeram mais importantes para a classificação de cada um deles.\n"
      ]
    },
    {
      "cell_type": "markdown",
      "metadata": {
        "id": "fLcrjscQQq0Q"
      },
      "source": [
        "## **Exploração dos dados**\n",
        "\n",
        "Na minha opinião, toda boa análise requer conhecimentodos dos dados com os quais estão sendo lidados e do contexto no qual eles foram gerados.\n",
        "Por isso, a fim de conhecer os dados, nós realizamos aqui uma análise descritiva superficial dos mesmos.\n",
        "\n",
        "### **Descrição dos dados**\n",
        "\n",
        "Após importar os dados, eu tendo a começar qualquer análise descritiva executando alguns comandos básicos:\n",
        "\n",
        "**shape**: indica a quantidade de dados com a qual estamos trabalhando e quantas informações nós temos sobre cada instância dos dados;\n",
        "\n",
        "**head**: dá uma ideia superficial de como os dados estão estruturados, quais informações (campos) estão disponíveis, quais relações entre os campos nós podemos já começar a inferir, quais dos campos podem ter valores faltantes, etc;\n",
        "\n",
        "**describe**: esboça a distribuição dos campos numéricos disponíveis através de estatísticas básicas como média, desvio padrão, valores máximos, mínimos e seus intervalos interquartis. Para campos categóricos, aponta a quantidade de itens e itens unicos, dentre outros;\n",
        "\n",
        "**value_counts().plot.bar()**: dado uma *Serie*, plota um gráfico de barras indicando a distribuição das classes da base de dados.\n",
        "\n",
        "A seguir nós executamos os comandos e analisamos as saídas."
      ]
    },
    {
      "cell_type": "markdown",
      "metadata": {
        "id": "7LSWVVseSlex"
      },
      "source": [
        "Importa dados:"
      ]
    },
    {
      "cell_type": "code",
      "metadata": {
        "id": "3RzEsi5XSrwP"
      },
      "source": [
        "import pandas as pd\n",
        "import numpy as np\n",
        "\n",
        "panelas_data = pd.read_csv(\"https://raw.githubusercontent.com/allansales/classificacao_panelas/main/problem1_dataset.csv\")"
      ],
      "execution_count": null,
      "outputs": []
    },
    {
      "cell_type": "code",
      "metadata": {
        "id": "DnrJ06GuZkEe",
        "colab": {
          "base_uri": "https://localhost:8080/",
          "height": 35
        },
        "outputId": "558f7758-5ded-452f-ef5e-60d9a7be9c38"
      },
      "source": [
        "n_panelas, n_informacoes = panelas_data.shape\n",
        "\n",
        "f'Quantidade de panelas: {n_panelas}. Quantidade de informações sobre cada panela: {n_informacoes}'"
      ],
      "execution_count": null,
      "outputs": [
        {
          "output_type": "execute_result",
          "data": {
            "application/vnd.google.colaboratory.intrinsic+json": {
              "type": "string"
            },
            "text/plain": [
              "'Quantidade de panelas: 180275. Quantidade de informações sobre cada panela: 21'"
            ]
          },
          "metadata": {
            "tags": []
          },
          "execution_count": 3
        }
      ]
    },
    {
      "cell_type": "code",
      "metadata": {
        "id": "Yi7TG7y_WJCL",
        "colab": {
          "base_uri": "https://localhost:8080/",
          "height": 226
        },
        "outputId": "a4ad5f40-32e6-4ffb-f148-a1fe5da1b9f0"
      },
      "source": [
        "panelas_data.head()"
      ],
      "execution_count": null,
      "outputs": [
        {
          "output_type": "execute_result",
          "data": {
            "text/html": [
              "<div>\n",
              "<style scoped>\n",
              "    .dataframe tbody tr th:only-of-type {\n",
              "        vertical-align: middle;\n",
              "    }\n",
              "\n",
              "    .dataframe tbody tr th {\n",
              "        vertical-align: top;\n",
              "    }\n",
              "\n",
              "    .dataframe thead th {\n",
              "        text-align: right;\n",
              "    }\n",
              "</style>\n",
              "<table border=\"1\" class=\"dataframe\">\n",
              "  <thead>\n",
              "    <tr style=\"text-align: right;\">\n",
              "      <th></th>\n",
              "      <th>ITEM_ID</th>\n",
              "      <th>ALTURA</th>\n",
              "      <th>CAPACIDADE_(L)</th>\n",
              "      <th>COMPOSICAO</th>\n",
              "      <th>COR</th>\n",
              "      <th>FORMATO</th>\n",
              "      <th>LARGURA</th>\n",
              "      <th>MARCA</th>\n",
              "      <th>PARA_LAVA_LOUCAS</th>\n",
              "      <th>PARA_MICRO_ONDAS</th>\n",
              "      <th>PESO</th>\n",
              "      <th>PROFUNDIDADE</th>\n",
              "      <th>TEMPO_GARANTIA</th>\n",
              "      <th>TEM_FERRO_FUNDIDO</th>\n",
              "      <th>TEM_GRELHA</th>\n",
              "      <th>TEM_TAMPA</th>\n",
              "      <th>TIPO_PRODUTO</th>\n",
              "      <th>TIPO_WOK</th>\n",
              "      <th>SESSION_ID</th>\n",
              "      <th>ITEM_PRICE</th>\n",
              "      <th>INTERESTED</th>\n",
              "    </tr>\n",
              "  </thead>\n",
              "  <tbody>\n",
              "    <tr>\n",
              "      <th>0</th>\n",
              "      <td>264220456</td>\n",
              "      <td>30.5</td>\n",
              "      <td>NaN</td>\n",
              "      <td>ALUMINIO</td>\n",
              "      <td>VINHO</td>\n",
              "      <td>NaN</td>\n",
              "      <td>14.0</td>\n",
              "      <td>LA CUISINE</td>\n",
              "      <td>NaN</td>\n",
              "      <td>NaN</td>\n",
              "      <td>NaN</td>\n",
              "      <td>50.0</td>\n",
              "      <td>3.0</td>\n",
              "      <td>NAO</td>\n",
              "      <td>SIM</td>\n",
              "      <td>1.0</td>\n",
              "      <td>PANELA</td>\n",
              "      <td>NAO</td>\n",
              "      <td>86.709770</td>\n",
              "      <td>199.990000</td>\n",
              "      <td>0.0</td>\n",
              "    </tr>\n",
              "    <tr>\n",
              "      <th>1</th>\n",
              "      <td>238630912</td>\n",
              "      <td>22.0</td>\n",
              "      <td>NaN</td>\n",
              "      <td>ALUMINIO</td>\n",
              "      <td>COLORIDO</td>\n",
              "      <td>NaN</td>\n",
              "      <td>24.0</td>\n",
              "      <td>TRAMONTINA</td>\n",
              "      <td>No</td>\n",
              "      <td>no</td>\n",
              "      <td>150.0</td>\n",
              "      <td>40.0</td>\n",
              "      <td>12.0</td>\n",
              "      <td>NAO</td>\n",
              "      <td>NAO</td>\n",
              "      <td>1.0</td>\n",
              "      <td>PIPOQUEIRA</td>\n",
              "      <td>NAO</td>\n",
              "      <td>73.156401</td>\n",
              "      <td>105.112581</td>\n",
              "      <td>0.0</td>\n",
              "    </tr>\n",
              "    <tr>\n",
              "      <th>2</th>\n",
              "      <td>218228122</td>\n",
              "      <td>24.0</td>\n",
              "      <td>NaN</td>\n",
              "      <td>INOX</td>\n",
              "      <td>INOX</td>\n",
              "      <td>NaN</td>\n",
              "      <td>20.0</td>\n",
              "      <td>LA CUISINE</td>\n",
              "      <td>Yes</td>\n",
              "      <td>no</td>\n",
              "      <td>190.0</td>\n",
              "      <td>20.0</td>\n",
              "      <td>3.0</td>\n",
              "      <td>NAO</td>\n",
              "      <td>NAO</td>\n",
              "      <td>1.0</td>\n",
              "      <td>ESPAGUETEIRA</td>\n",
              "      <td>NAO</td>\n",
              "      <td>952.331024</td>\n",
              "      <td>139.990000</td>\n",
              "      <td>0.0</td>\n",
              "    </tr>\n",
              "    <tr>\n",
              "      <th>3</th>\n",
              "      <td>253661510</td>\n",
              "      <td>49.5</td>\n",
              "      <td>6.0</td>\n",
              "      <td>ALUMINIO</td>\n",
              "      <td>VERMELHO</td>\n",
              "      <td>REDONDO</td>\n",
              "      <td>41.5</td>\n",
              "      <td>TRAMONTINA</td>\n",
              "      <td>Yes</td>\n",
              "      <td>NaN</td>\n",
              "      <td>120.0</td>\n",
              "      <td>47.0</td>\n",
              "      <td>NaN</td>\n",
              "      <td>NAO</td>\n",
              "      <td>NAO</td>\n",
              "      <td>1.0</td>\n",
              "      <td>PIPOQUEIRA</td>\n",
              "      <td>NAO</td>\n",
              "      <td>637.759106</td>\n",
              "      <td>103.293333</td>\n",
              "      <td>1.0</td>\n",
              "    </tr>\n",
              "    <tr>\n",
              "      <th>4</th>\n",
              "      <td>253661510</td>\n",
              "      <td>49.5</td>\n",
              "      <td>6.0</td>\n",
              "      <td>ALUMINIO</td>\n",
              "      <td>VERMELHO</td>\n",
              "      <td>REDONDO</td>\n",
              "      <td>41.5</td>\n",
              "      <td>TRAMONTINA</td>\n",
              "      <td>Yes</td>\n",
              "      <td>NaN</td>\n",
              "      <td>120.0</td>\n",
              "      <td>47.0</td>\n",
              "      <td>NaN</td>\n",
              "      <td>NAO</td>\n",
              "      <td>NAO</td>\n",
              "      <td>1.0</td>\n",
              "      <td>PIPOQUEIRA</td>\n",
              "      <td>NAO</td>\n",
              "      <td>478.531428</td>\n",
              "      <td>103.330242</td>\n",
              "      <td>0.0</td>\n",
              "    </tr>\n",
              "  </tbody>\n",
              "</table>\n",
              "</div>"
            ],
            "text/plain": [
              "     ITEM_ID  ALTURA  CAPACIDADE_(L)  ...  SESSION_ID  ITEM_PRICE INTERESTED\n",
              "0  264220456    30.5             NaN  ...   86.709770  199.990000        0.0\n",
              "1  238630912    22.0             NaN  ...   73.156401  105.112581        0.0\n",
              "2  218228122    24.0             NaN  ...  952.331024  139.990000        0.0\n",
              "3  253661510    49.5             6.0  ...  637.759106  103.293333        1.0\n",
              "4  253661510    49.5             6.0  ...  478.531428  103.330242        0.0\n",
              "\n",
              "[5 rows x 21 columns]"
            ]
          },
          "metadata": {
            "tags": []
          },
          "execution_count": 4
        }
      ]
    },
    {
      "cell_type": "code",
      "metadata": {
        "id": "cDU0HqHYWW30",
        "colab": {
          "base_uri": "https://localhost:8080/",
          "height": 414
        },
        "outputId": "7788c21d-c56f-44ac-c081-c0c9862d736c"
      },
      "source": [
        "panelas_data.describe(include='all')"
      ],
      "execution_count": null,
      "outputs": [
        {
          "output_type": "execute_result",
          "data": {
            "text/html": [
              "<div>\n",
              "<style scoped>\n",
              "    .dataframe tbody tr th:only-of-type {\n",
              "        vertical-align: middle;\n",
              "    }\n",
              "\n",
              "    .dataframe tbody tr th {\n",
              "        vertical-align: top;\n",
              "    }\n",
              "\n",
              "    .dataframe thead th {\n",
              "        text-align: right;\n",
              "    }\n",
              "</style>\n",
              "<table border=\"1\" class=\"dataframe\">\n",
              "  <thead>\n",
              "    <tr style=\"text-align: right;\">\n",
              "      <th></th>\n",
              "      <th>ITEM_ID</th>\n",
              "      <th>ALTURA</th>\n",
              "      <th>CAPACIDADE_(L)</th>\n",
              "      <th>COMPOSICAO</th>\n",
              "      <th>COR</th>\n",
              "      <th>FORMATO</th>\n",
              "      <th>LARGURA</th>\n",
              "      <th>MARCA</th>\n",
              "      <th>PARA_LAVA_LOUCAS</th>\n",
              "      <th>PARA_MICRO_ONDAS</th>\n",
              "      <th>PESO</th>\n",
              "      <th>PROFUNDIDADE</th>\n",
              "      <th>TEMPO_GARANTIA</th>\n",
              "      <th>TEM_FERRO_FUNDIDO</th>\n",
              "      <th>TEM_GRELHA</th>\n",
              "      <th>TEM_TAMPA</th>\n",
              "      <th>TIPO_PRODUTO</th>\n",
              "      <th>TIPO_WOK</th>\n",
              "      <th>SESSION_ID</th>\n",
              "      <th>ITEM_PRICE</th>\n",
              "      <th>INTERESTED</th>\n",
              "    </tr>\n",
              "  </thead>\n",
              "  <tbody>\n",
              "    <tr>\n",
              "      <th>count</th>\n",
              "      <td>1.802750e+05</td>\n",
              "      <td>171007.000000</td>\n",
              "      <td>76671.000000</td>\n",
              "      <td>156978</td>\n",
              "      <td>170251</td>\n",
              "      <td>90011</td>\n",
              "      <td>171007.000000</td>\n",
              "      <td>180001</td>\n",
              "      <td>104086</td>\n",
              "      <td>86402</td>\n",
              "      <td>98524.000000</td>\n",
              "      <td>171007.000000</td>\n",
              "      <td>122770.000000</td>\n",
              "      <td>180275</td>\n",
              "      <td>180275</td>\n",
              "      <td>180275.000000</td>\n",
              "      <td>180275</td>\n",
              "      <td>180275</td>\n",
              "      <td>178273.000000</td>\n",
              "      <td>167178.000000</td>\n",
              "      <td>180275.000000</td>\n",
              "    </tr>\n",
              "    <tr>\n",
              "      <th>unique</th>\n",
              "      <td>NaN</td>\n",
              "      <td>NaN</td>\n",
              "      <td>NaN</td>\n",
              "      <td>5</td>\n",
              "      <td>24</td>\n",
              "      <td>5</td>\n",
              "      <td>NaN</td>\n",
              "      <td>35</td>\n",
              "      <td>3</td>\n",
              "      <td>2</td>\n",
              "      <td>NaN</td>\n",
              "      <td>NaN</td>\n",
              "      <td>NaN</td>\n",
              "      <td>2</td>\n",
              "      <td>2</td>\n",
              "      <td>NaN</td>\n",
              "      <td>38</td>\n",
              "      <td>2</td>\n",
              "      <td>NaN</td>\n",
              "      <td>NaN</td>\n",
              "      <td>NaN</td>\n",
              "    </tr>\n",
              "    <tr>\n",
              "      <th>top</th>\n",
              "      <td>NaN</td>\n",
              "      <td>NaN</td>\n",
              "      <td>NaN</td>\n",
              "      <td>ALUMINIO</td>\n",
              "      <td>INOX</td>\n",
              "      <td>REDONDO</td>\n",
              "      <td>NaN</td>\n",
              "      <td>TRAMONTINA</td>\n",
              "      <td>Yes</td>\n",
              "      <td>no</td>\n",
              "      <td>NaN</td>\n",
              "      <td>NaN</td>\n",
              "      <td>NaN</td>\n",
              "      <td>NAO</td>\n",
              "      <td>NAO</td>\n",
              "      <td>NaN</td>\n",
              "      <td>PANELA</td>\n",
              "      <td>NAO</td>\n",
              "      <td>NaN</td>\n",
              "      <td>NaN</td>\n",
              "      <td>NaN</td>\n",
              "    </tr>\n",
              "    <tr>\n",
              "      <th>freq</th>\n",
              "      <td>NaN</td>\n",
              "      <td>NaN</td>\n",
              "      <td>NaN</td>\n",
              "      <td>114218</td>\n",
              "      <td>34502</td>\n",
              "      <td>79888</td>\n",
              "      <td>NaN</td>\n",
              "      <td>72971</td>\n",
              "      <td>74615</td>\n",
              "      <td>81367</td>\n",
              "      <td>NaN</td>\n",
              "      <td>NaN</td>\n",
              "      <td>NaN</td>\n",
              "      <td>154938</td>\n",
              "      <td>160090</td>\n",
              "      <td>NaN</td>\n",
              "      <td>62418</td>\n",
              "      <td>144820</td>\n",
              "      <td>NaN</td>\n",
              "      <td>NaN</td>\n",
              "      <td>NaN</td>\n",
              "    </tr>\n",
              "    <tr>\n",
              "      <th>mean</th>\n",
              "      <td>2.156229e+08</td>\n",
              "      <td>30.575636</td>\n",
              "      <td>4.234668</td>\n",
              "      <td>NaN</td>\n",
              "      <td>NaN</td>\n",
              "      <td>NaN</td>\n",
              "      <td>27.882157</td>\n",
              "      <td>NaN</td>\n",
              "      <td>NaN</td>\n",
              "      <td>NaN</td>\n",
              "      <td>311.259118</td>\n",
              "      <td>34.797386</td>\n",
              "      <td>13.870742</td>\n",
              "      <td>NaN</td>\n",
              "      <td>NaN</td>\n",
              "      <td>0.440704</td>\n",
              "      <td>NaN</td>\n",
              "      <td>NaN</td>\n",
              "      <td>499.757195</td>\n",
              "      <td>127.831019</td>\n",
              "      <td>0.086130</td>\n",
              "    </tr>\n",
              "    <tr>\n",
              "      <th>std</th>\n",
              "      <td>1.030257e+08</td>\n",
              "      <td>14.856403</td>\n",
              "      <td>1.699274</td>\n",
              "      <td>NaN</td>\n",
              "      <td>NaN</td>\n",
              "      <td>NaN</td>\n",
              "      <td>10.494943</td>\n",
              "      <td>NaN</td>\n",
              "      <td>NaN</td>\n",
              "      <td>NaN</td>\n",
              "      <td>1727.585999</td>\n",
              "      <td>15.179911</td>\n",
              "      <td>43.641581</td>\n",
              "      <td>NaN</td>\n",
              "      <td>NaN</td>\n",
              "      <td>0.496473</td>\n",
              "      <td>NaN</td>\n",
              "      <td>NaN</td>\n",
              "      <td>288.841689</td>\n",
              "      <td>137.298241</td>\n",
              "      <td>0.280556</td>\n",
              "    </tr>\n",
              "    <tr>\n",
              "      <th>min</th>\n",
              "      <td>2.939160e+05</td>\n",
              "      <td>2.000000</td>\n",
              "      <td>0.045000</td>\n",
              "      <td>NaN</td>\n",
              "      <td>NaN</td>\n",
              "      <td>NaN</td>\n",
              "      <td>4.500000</td>\n",
              "      <td>NaN</td>\n",
              "      <td>NaN</td>\n",
              "      <td>NaN</td>\n",
              "      <td>0.619000</td>\n",
              "      <td>2.500000</td>\n",
              "      <td>1.000000</td>\n",
              "      <td>NaN</td>\n",
              "      <td>NaN</td>\n",
              "      <td>0.000000</td>\n",
              "      <td>NaN</td>\n",
              "      <td>NaN</td>\n",
              "      <td>1.011194</td>\n",
              "      <td>0.550000</td>\n",
              "      <td>0.000000</td>\n",
              "    </tr>\n",
              "    <tr>\n",
              "      <th>25%</th>\n",
              "      <td>2.273688e+08</td>\n",
              "      <td>19.000000</td>\n",
              "      <td>3.100000</td>\n",
              "      <td>NaN</td>\n",
              "      <td>NaN</td>\n",
              "      <td>NaN</td>\n",
              "      <td>20.000000</td>\n",
              "      <td>NaN</td>\n",
              "      <td>NaN</td>\n",
              "      <td>NaN</td>\n",
              "      <td>120.000000</td>\n",
              "      <td>19.800000</td>\n",
              "      <td>3.000000</td>\n",
              "      <td>NaN</td>\n",
              "      <td>NaN</td>\n",
              "      <td>0.000000</td>\n",
              "      <td>NaN</td>\n",
              "      <td>NaN</td>\n",
              "      <td>249.343773</td>\n",
              "      <td>74.990000</td>\n",
              "      <td>0.000000</td>\n",
              "    </tr>\n",
              "    <tr>\n",
              "      <th>50%</th>\n",
              "      <td>2.485863e+08</td>\n",
              "      <td>30.500000</td>\n",
              "      <td>4.500000</td>\n",
              "      <td>NaN</td>\n",
              "      <td>NaN</td>\n",
              "      <td>NaN</td>\n",
              "      <td>27.800000</td>\n",
              "      <td>NaN</td>\n",
              "      <td>NaN</td>\n",
              "      <td>NaN</td>\n",
              "      <td>160.000000</td>\n",
              "      <td>38.500000</td>\n",
              "      <td>6.000000</td>\n",
              "      <td>NaN</td>\n",
              "      <td>NaN</td>\n",
              "      <td>0.000000</td>\n",
              "      <td>NaN</td>\n",
              "      <td>NaN</td>\n",
              "      <td>500.759182</td>\n",
              "      <td>104.482418</td>\n",
              "      <td>0.000000</td>\n",
              "    </tr>\n",
              "    <tr>\n",
              "      <th>75%</th>\n",
              "      <td>2.567376e+08</td>\n",
              "      <td>42.700000</td>\n",
              "      <td>6.000000</td>\n",
              "      <td>NaN</td>\n",
              "      <td>NaN</td>\n",
              "      <td>NaN</td>\n",
              "      <td>35.000000</td>\n",
              "      <td>NaN</td>\n",
              "      <td>NaN</td>\n",
              "      <td>NaN</td>\n",
              "      <td>190.000000</td>\n",
              "      <td>47.000000</td>\n",
              "      <td>12.000000</td>\n",
              "      <td>NaN</td>\n",
              "      <td>NaN</td>\n",
              "      <td>1.000000</td>\n",
              "      <td>NaN</td>\n",
              "      <td>NaN</td>\n",
              "      <td>749.204738</td>\n",
              "      <td>146.327727</td>\n",
              "      <td>0.000000</td>\n",
              "    </tr>\n",
              "    <tr>\n",
              "      <th>max</th>\n",
              "      <td>2.711264e+10</td>\n",
              "      <td>84.000000</td>\n",
              "      <td>11.000000</td>\n",
              "      <td>NaN</td>\n",
              "      <td>NaN</td>\n",
              "      <td>NaN</td>\n",
              "      <td>91.000000</td>\n",
              "      <td>NaN</td>\n",
              "      <td>NaN</td>\n",
              "      <td>NaN</td>\n",
              "      <td>44400.000000</td>\n",
              "      <td>148.000000</td>\n",
              "      <td>300.000000</td>\n",
              "      <td>NaN</td>\n",
              "      <td>NaN</td>\n",
              "      <td>1.000000</td>\n",
              "      <td>NaN</td>\n",
              "      <td>NaN</td>\n",
              "      <td>1000.984988</td>\n",
              "      <td>2274.990000</td>\n",
              "      <td>1.000000</td>\n",
              "    </tr>\n",
              "  </tbody>\n",
              "</table>\n",
              "</div>"
            ],
            "text/plain": [
              "             ITEM_ID         ALTURA  ...     ITEM_PRICE     INTERESTED\n",
              "count   1.802750e+05  171007.000000  ...  167178.000000  180275.000000\n",
              "unique           NaN            NaN  ...            NaN            NaN\n",
              "top              NaN            NaN  ...            NaN            NaN\n",
              "freq             NaN            NaN  ...            NaN            NaN\n",
              "mean    2.156229e+08      30.575636  ...     127.831019       0.086130\n",
              "std     1.030257e+08      14.856403  ...     137.298241       0.280556\n",
              "min     2.939160e+05       2.000000  ...       0.550000       0.000000\n",
              "25%     2.273688e+08      19.000000  ...      74.990000       0.000000\n",
              "50%     2.485863e+08      30.500000  ...     104.482418       0.000000\n",
              "75%     2.567376e+08      42.700000  ...     146.327727       0.000000\n",
              "max     2.711264e+10      84.000000  ...    2274.990000       1.000000\n",
              "\n",
              "[11 rows x 21 columns]"
            ]
          },
          "metadata": {
            "tags": []
          },
          "execution_count": 5
        }
      ]
    },
    {
      "cell_type": "code",
      "metadata": {
        "colab": {
          "base_uri": "https://localhost:8080/",
          "height": 340
        },
        "id": "BVXAa0eTQYNF",
        "outputId": "7ee1fe13-0432-483b-8809-1a126c79abda"
      },
      "source": [
        "distribuicao_classes = panelas_data.INTERESTED.value_counts()\n",
        "print(distribuicao_classes)\n",
        "distribuicao_classes.plot.bar()"
      ],
      "execution_count": null,
      "outputs": [
        {
          "output_type": "stream",
          "text": [
            "0.0    164748\n",
            "1.0     15527\n",
            "Name: INTERESTED, dtype: int64\n"
          ],
          "name": "stdout"
        },
        {
          "output_type": "execute_result",
          "data": {
            "text/plain": [
              "<AxesSubplot:>"
            ]
          },
          "metadata": {
            "tags": []
          },
          "execution_count": 6
        },
        {
          "output_type": "display_data",
          "data": {
            "image/png": "[encoded data removed]",
            "text/plain": [
              "<Figure size 432x288 with 1 Axes>"
            ]
          },
          "metadata": {
            "tags": [],
            "needs_background": "light"
          }
        }
      ]
    },
    {
      "cell_type": "markdown",
      "metadata": {
        "id": "EZj7UdiIfx2H"
      },
      "source": [
        "Algumas conclusões sobre a base de dados já podem ser tiradas a partir desses comandos:\n",
        "\n",
        "1.   A base de dados contém 180275 registros de panelas, com 21 informações sobre cada registro;\n",
        "2.   A base possui informações com variáveis categóricas (e.g., tem_tampa, tem_grelha), discretas (e.g., tamanho) e contínuas (e.g., peso) sobre cada panela, e algumas das informações categóricas estão dispostas como números (e.g., tem_tampa, interested) enquanto outras estão como *strings* (e.g., marca). \n",
        "A depender do modelo que utilizaremos para classificar uma panela como interessante ou não para o cliente, essas informações categóricas precisarão ser transformadas em valores discretos.\n",
        "Nós separamos uma lista com as informações categóricas e quantitativas abaixo;\n",
        "3.   Apenas algumas informações estão presentes para todas os registros (e.g., tem_tampa, tem_ferro_fundido). \n",
        "Devido essa característica, será necessário investigar qual a melhor alternativa para lidar com os dados faltantes. \n",
        "4.   O ITEM_ID e o SESSION_ID parecem se referir a um ID único de identificação de um produto e sessão de um usuário, respectivamente, que não contribuem com a classificação. Por esses motivos, eles serão retirados da análise.\n",
        "5.   Os dados apresentam desbalancemento severo, com aproximadamente 10x mais registros da classe 0 do que da classe 1, portanto, algumas decisões relacionadas a métrica de avaliação de modelo, algoritmo e *resampling*, precisarão ser tomadas.\n"
      ]
    },
    {
      "cell_type": "code",
      "metadata": {
        "id": "FyxiNZLxbJOf"
      },
      "source": [
        "informacoes_categoricas = [\"COMPOSICAO\",\"COR\",\"FORMATO\",\"MARCA\",\"PARA_LAVA_LOUCAS\",\"PARA_MICRO_ONDAS\",\"TEM_FERRO_FUNDIDO\",\"TEM_GRELHA\",\"TEM_TAMPA\",\"TIPO_PRODUTO\",\"TIPO_WOK\"]\n",
        "informacoes_quantitativas = [\"ITEM_ID\",\"ALTURA\",\"CAPACIDADE_(L)\",\"LARGURA\",\"PESO\",\"PROFUNDIDADE\",\"TEMPO_GARANTIA\",\"SESSION_ID\",\"ITEM_PRICE\"]\n",
        "\n",
        "panelas_data = panelas_data.drop([\"ITEM_ID\",\"SESSION_ID\"], axis=1)"
      ],
      "execution_count": null,
      "outputs": []
    },
    {
      "cell_type": "markdown",
      "metadata": {
        "id": "HFHTVbwGzN7W"
      },
      "source": [
        "A seguir, vamos nos aprofundar na análise dos dados faltantes e no desbalanceamento de classes. \n",
        "Primeiramente, nós tomamos algumas decisões a respeito do possível problema de desbalanceamento de classes que enfretamos.\n",
        "Em seguida, nós vamos apontar estratégias que podem ser adotadas para tratar os dados faltantes e vamos avaliá-las com base nas suas características e no reflexo que cada uma delas provoca no desbalanceamento das classes."
      ]
    },
    {
      "cell_type": "markdown",
      "metadata": {
        "id": "_u4m8XS3eLbK"
      },
      "source": [
        "#### **Lidando com desbalanceamento de classes**\n",
        "\n",
        "Nossa base de dados apresenta um desbalancemento de classes severo, sendo aproximadamente 92% dos registros pertencentes à classe 0 e 8% à classe 1.\n",
        "Um desbalanceamento severo pode enviesar o modelo de classificação, o fazendo classificar novas entradas como instâncias, principalmente, da classe majoritária.\n",
        "A seguir listamos alguns cuidados devem ser tomados ao trabalharmos com dados desbalanceados e o que faremos a respeito das mesmas para solucionar nosso problema:\n",
        "1.   Utilizar métricas de avaliação do modelo de classificação insensíveis, ou pouco sensíveis, ao desbalanceamento. Métricas como a acurácia, por exemplo, se tornam problemáticas em cenários de desbalanceamento severo, já que elas podem apresentar um valor alto mesmo com um modelo que classifica qualquer registro como sendo da classe majoritária. Para esses casos, uma Matriz de Confusão acompanhada de métricas de Precisão, Recall e F-measure são mais indicadas e serão adotadas aqui;\n",
        "2.   Utilizar algoritmos que lidam bem com o desbalanceamento. A Árvore de Decisão, por exemplo, é um algoritmo conhecido por performar bem nesses cenários, muito provavelmente em razão de criar regras que separem bem as classes. \n",
        "Devido a esse motivo, nós estaremos adotando a Árvore de Decisão para realizarmos a classificação.\n",
        "Outros métodos baseados em Árvore de Decisão, como a Floresta Aleatória, também poderiam ser utilizados aqui com possíveis ganhos de performance. A Árvore de Decisão será adotado para acelerar o treinamento dos modelos;\n",
        "3.   Aumentar a penalização dos erros da classe minoritária. Alguns algoritmos permitem ser configurados com pesos que os penalizam mais por um erro de uma classe que de outra. Assim, em algumas situções pode ser interessante treinar o algoritmo explicitando que o erro de classificação da classe minoritária é x vezes mais prejudicial que o da majoritária. Nós utilizaremos a implementação de Árvore de Decisão do sklearn, que permite o ajuste de pesos para cada classe;\n",
        "4.   Utilizar técnicas de *Resampling* (*Oversampling* e *Undersampling*) para balancear os dados. *Oversampling* se refere à adição de instâncias da classe minoritária na base de dados, enquanto *Undersampling* se refere a remoção, aleatória ou por algoritmos de classificação, de instâncias da classe majoritária.\n",
        "Técnicas de *Oversampling* podem envolver repetição de dados existentes, *bootstraping* ou criação de dados sintéticos, sendo o SMOTE uma das técnicas mais populares de criação de dados sintéticos. \n",
        "Nós investigaremos qual é a melhor solução para o problema executando experimentos para comparar diferentes estratégias: (i) utilizar apenas *Undersampling*, (ii) utilizar apenas o *Oversampling*, através do SMOTE, ou (iii) não balancear os dados.\n",
        "\n",
        "##### **Conclusão**\n",
        "\n",
        "Devido ao desbalanceamento severo das classes, algumas decisões para os próximos passos já precisaram ser tomadas de agora.\n",
        "No entanto, apesar de já termos algumas decisões tomadas (e.g., adoção de Árvores de Decisão para treinar o modelo), alguns experimentos com técnicas de *resampling* ainda precisam ser executados para indicarmos com confiança qual é a melhor solução final.\n",
        "Na seção em que criamos as bases de treino e teste, nós fazemos uso das técnicas de *resampling*.\n",
        " \n"
      ]
    },
    {
      "cell_type": "markdown",
      "metadata": {
        "id": "cpqMVl-WVJOW"
      },
      "source": [
        "#### **Análise de dados ausentes**\n",
        "\n",
        "Existem diferentes estratégias para lidar com dados ausentes que são baseadas no princípio de descarte de registros incompletos ou imputação de dados ausentes.\n",
        "Discutiremos uma por vez, começanco pelo descarte de dados.\n",
        "\n",
        "##### **Descarte de dados**\n",
        "Para descartar dados ausentes nós temos as seguintes opções. que chamamos de *Listwise* e *Drop variables*: \n",
        "- **Listwise**. Descarte de todo registro que não apresenta todas as informações na base de dados;\n",
        "- **Drop variables**. Utilização apenas de registros com informação completa após descartar colunas que contém informações menos importantes e muitos dados ausentes.\n",
        "\n",
        "A opção *Listwise* carrega consigo a desvantagem, principalmente em cenários com muitas variáveis, de o número de descartes ser muito alto e ocasionalmente resultar em dados enviesados, considerando que os dados não sejam faltantes por motivos completamente randômicos.\n",
        "A opção *Drop variables*, por sua vez, necessita de que uma informação apresente grande parcela de dados faltantes (e.g., mais de 50%) e ainda a decisão, preferencialmente de um especialista do contexto, indicando quais informações são importantes de manter e quais podem ser descartadas.\n",
        "Abaixo, primeiramente, nós calculamos a porcentagem de dados ausentes para cada informação da tabela, e logo após, mostramos os resultados das diferentes abordagens, também verificando as suas influencias no balanceamento das classes.\n",
        "\n"
      ]
    },
    {
      "cell_type": "code",
      "metadata": {
        "colab": {
          "base_uri": "https://localhost:8080/"
        },
        "id": "KC2Xtycmgq0L",
        "outputId": "37410264-b194-43c6-bc7a-1b156611fecc"
      },
      "source": [
        "# calculo de porcentagem de dados faltantes para cada informção presente no datase\n",
        "porcent_faltantes_por_info = panelas_data.isna().sum()/n_panelas\n",
        "print(\"Porcentagem de dados ausentes para cada informação (coluna):\")\n",
        "print(porcent_faltantes_por_info)"
      ],
      "execution_count": null,
      "outputs": [
        {
          "output_type": "stream",
          "text": [
            "Porcentagem de dados ausentes para cada informação (coluna):\n",
            "ALTURA               0.051410\n",
            "CAPACIDADE_(L)       0.574700\n",
            "COMPOSICAO           0.129230\n",
            "COR                  0.055604\n",
            "FORMATO              0.500702\n",
            "LARGURA              0.051410\n",
            "MARCA                0.001520\n",
            "PARA_LAVA_LOUCAS     0.422627\n",
            "PARA_MICRO_ONDAS     0.520721\n",
            "PESO                 0.453479\n",
            "PROFUNDIDADE         0.051410\n",
            "TEMPO_GARANTIA       0.318985\n",
            "TEM_FERRO_FUNDIDO    0.000000\n",
            "TEM_GRELHA           0.000000\n",
            "TEM_TAMPA            0.000000\n",
            "TIPO_PRODUTO         0.000000\n",
            "TIPO_WOK             0.000000\n",
            "ITEM_PRICE           0.072650\n",
            "INTERESTED           0.000000\n",
            "dtype: float64\n"
          ],
          "name": "stdout"
        }
      ]
    },
    {
      "cell_type": "markdown",
      "metadata": {
        "id": "IukwT6UoYfCO"
      },
      "source": [
        "###### **Abordagem listwise**"
      ]
    },
    {
      "cell_type": "code",
      "metadata": {
        "id": "NqzcQ853VIep",
        "colab": {
          "base_uri": "https://localhost:8080/",
          "height": 432
        },
        "outputId": "7e798541-3b22-4fa3-d0dd-98f1019911e2"
      },
      "source": [
        "# descartar qualquer registro incompleto (listwise)\n",
        "descarte_registro_incompleto = panelas_data.dropna()\n",
        "print(descarte_registro_incompleto.shape)\n",
        "\n",
        "descarte_registro_incompleto.describe(include='all')"
      ],
      "execution_count": null,
      "outputs": [
        {
          "output_type": "stream",
          "text": [
            "(27564, 19)\n"
          ],
          "name": "stdout"
        },
        {
          "output_type": "execute_result",
          "data": {
            "text/html": [
              "<div>\n",
              "<style scoped>\n",
              "    .dataframe tbody tr th:only-of-type {\n",
              "        vertical-align: middle;\n",
              "    }\n",
              "\n",
              "    .dataframe tbody tr th {\n",
              "        vertical-align: top;\n",
              "    }\n",
              "\n",
              "    .dataframe thead th {\n",
              "        text-align: right;\n",
              "    }\n",
              "</style>\n",
              "<table border=\"1\" class=\"dataframe\">\n",
              "  <thead>\n",
              "    <tr style=\"text-align: right;\">\n",
              "      <th></th>\n",
              "      <th>ALTURA</th>\n",
              "      <th>CAPACIDADE_(L)</th>\n",
              "      <th>COMPOSICAO</th>\n",
              "      <th>COR</th>\n",
              "      <th>FORMATO</th>\n",
              "      <th>LARGURA</th>\n",
              "      <th>MARCA</th>\n",
              "      <th>PARA_LAVA_LOUCAS</th>\n",
              "      <th>PARA_MICRO_ONDAS</th>\n",
              "      <th>PESO</th>\n",
              "      <th>PROFUNDIDADE</th>\n",
              "      <th>TEMPO_GARANTIA</th>\n",
              "      <th>TEM_FERRO_FUNDIDO</th>\n",
              "      <th>TEM_GRELHA</th>\n",
              "      <th>TEM_TAMPA</th>\n",
              "      <th>TIPO_PRODUTO</th>\n",
              "      <th>TIPO_WOK</th>\n",
              "      <th>ITEM_PRICE</th>\n",
              "      <th>INTERESTED</th>\n",
              "    </tr>\n",
              "  </thead>\n",
              "  <tbody>\n",
              "    <tr>\n",
              "      <th>count</th>\n",
              "      <td>27564.000000</td>\n",
              "      <td>27564.000000</td>\n",
              "      <td>27564</td>\n",
              "      <td>27564</td>\n",
              "      <td>27564</td>\n",
              "      <td>27564.000000</td>\n",
              "      <td>27564</td>\n",
              "      <td>27564</td>\n",
              "      <td>27564</td>\n",
              "      <td>27564.000000</td>\n",
              "      <td>27564.000000</td>\n",
              "      <td>27564.000000</td>\n",
              "      <td>27564</td>\n",
              "      <td>27564</td>\n",
              "      <td>27564.000000</td>\n",
              "      <td>27564</td>\n",
              "      <td>27564</td>\n",
              "      <td>27564.000000</td>\n",
              "      <td>27564.000000</td>\n",
              "    </tr>\n",
              "    <tr>\n",
              "      <th>unique</th>\n",
              "      <td>NaN</td>\n",
              "      <td>NaN</td>\n",
              "      <td>3</td>\n",
              "      <td>11</td>\n",
              "      <td>1</td>\n",
              "      <td>NaN</td>\n",
              "      <td>9</td>\n",
              "      <td>2</td>\n",
              "      <td>2</td>\n",
              "      <td>NaN</td>\n",
              "      <td>NaN</td>\n",
              "      <td>NaN</td>\n",
              "      <td>2</td>\n",
              "      <td>1</td>\n",
              "      <td>NaN</td>\n",
              "      <td>6</td>\n",
              "      <td>2</td>\n",
              "      <td>NaN</td>\n",
              "      <td>NaN</td>\n",
              "    </tr>\n",
              "    <tr>\n",
              "      <th>top</th>\n",
              "      <td>NaN</td>\n",
              "      <td>NaN</td>\n",
              "      <td>ALUMINIO</td>\n",
              "      <td>CEREJA</td>\n",
              "      <td>REDONDO</td>\n",
              "      <td>NaN</td>\n",
              "      <td>TRAMONTINA</td>\n",
              "      <td>Yes</td>\n",
              "      <td>no</td>\n",
              "      <td>NaN</td>\n",
              "      <td>NaN</td>\n",
              "      <td>NaN</td>\n",
              "      <td>NAO</td>\n",
              "      <td>NAO</td>\n",
              "      <td>NaN</td>\n",
              "      <td>PANELA</td>\n",
              "      <td>SIM</td>\n",
              "      <td>NaN</td>\n",
              "      <td>NaN</td>\n",
              "    </tr>\n",
              "    <tr>\n",
              "      <th>freq</th>\n",
              "      <td>NaN</td>\n",
              "      <td>NaN</td>\n",
              "      <td>25655</td>\n",
              "      <td>23202</td>\n",
              "      <td>27564</td>\n",
              "      <td>NaN</td>\n",
              "      <td>23732</td>\n",
              "      <td>26853</td>\n",
              "      <td>26577</td>\n",
              "      <td>NaN</td>\n",
              "      <td>NaN</td>\n",
              "      <td>NaN</td>\n",
              "      <td>26854</td>\n",
              "      <td>27564</td>\n",
              "      <td>NaN</td>\n",
              "      <td>25292</td>\n",
              "      <td>23732</td>\n",
              "      <td>NaN</td>\n",
              "      <td>NaN</td>\n",
              "    </tr>\n",
              "    <tr>\n",
              "      <th>mean</th>\n",
              "      <td>40.545763</td>\n",
              "      <td>4.319963</td>\n",
              "      <td>NaN</td>\n",
              "      <td>NaN</td>\n",
              "      <td>NaN</td>\n",
              "      <td>32.012491</td>\n",
              "      <td>NaN</td>\n",
              "      <td>NaN</td>\n",
              "      <td>NaN</td>\n",
              "      <td>172.218365</td>\n",
              "      <td>20.161783</td>\n",
              "      <td>11.162966</td>\n",
              "      <td>NaN</td>\n",
              "      <td>NaN</td>\n",
              "      <td>0.032434</td>\n",
              "      <td>NaN</td>\n",
              "      <td>NaN</td>\n",
              "      <td>110.630138</td>\n",
              "      <td>0.086852</td>\n",
              "    </tr>\n",
              "    <tr>\n",
              "      <th>std</th>\n",
              "      <td>8.748961</td>\n",
              "      <td>1.025585</td>\n",
              "      <td>NaN</td>\n",
              "      <td>NaN</td>\n",
              "      <td>NaN</td>\n",
              "      <td>4.939193</td>\n",
              "      <td>NaN</td>\n",
              "      <td>NaN</td>\n",
              "      <td>NaN</td>\n",
              "      <td>239.835361</td>\n",
              "      <td>5.031639</td>\n",
              "      <td>5.292976</td>\n",
              "      <td>NaN</td>\n",
              "      <td>NaN</td>\n",
              "      <td>0.177152</td>\n",
              "      <td>NaN</td>\n",
              "      <td>NaN</td>\n",
              "      <td>42.906273</td>\n",
              "      <td>0.281624</td>\n",
              "    </tr>\n",
              "    <tr>\n",
              "      <th>min</th>\n",
              "      <td>9.000000</td>\n",
              "      <td>0.750000</td>\n",
              "      <td>NaN</td>\n",
              "      <td>NaN</td>\n",
              "      <td>NaN</td>\n",
              "      <td>11.500000</td>\n",
              "      <td>NaN</td>\n",
              "      <td>NaN</td>\n",
              "      <td>NaN</td>\n",
              "      <td>10.000000</td>\n",
              "      <td>9.500000</td>\n",
              "      <td>1.000000</td>\n",
              "      <td>NaN</td>\n",
              "      <td>NaN</td>\n",
              "      <td>0.000000</td>\n",
              "      <td>NaN</td>\n",
              "      <td>NaN</td>\n",
              "      <td>39.990000</td>\n",
              "      <td>0.000000</td>\n",
              "    </tr>\n",
              "    <tr>\n",
              "      <th>25%</th>\n",
              "      <td>42.700000</td>\n",
              "      <td>4.500000</td>\n",
              "      <td>NaN</td>\n",
              "      <td>NaN</td>\n",
              "      <td>NaN</td>\n",
              "      <td>32.700000</td>\n",
              "      <td>NaN</td>\n",
              "      <td>NaN</td>\n",
              "      <td>NaN</td>\n",
              "      <td>160.000000</td>\n",
              "      <td>18.100000</td>\n",
              "      <td>12.000000</td>\n",
              "      <td>NaN</td>\n",
              "      <td>NaN</td>\n",
              "      <td>0.000000</td>\n",
              "      <td>NaN</td>\n",
              "      <td>NaN</td>\n",
              "      <td>94.726667</td>\n",
              "      <td>0.000000</td>\n",
              "    </tr>\n",
              "    <tr>\n",
              "      <th>50%</th>\n",
              "      <td>42.700000</td>\n",
              "      <td>4.500000</td>\n",
              "      <td>NaN</td>\n",
              "      <td>NaN</td>\n",
              "      <td>NaN</td>\n",
              "      <td>32.700000</td>\n",
              "      <td>NaN</td>\n",
              "      <td>NaN</td>\n",
              "      <td>NaN</td>\n",
              "      <td>160.000000</td>\n",
              "      <td>18.100000</td>\n",
              "      <td>12.000000</td>\n",
              "      <td>NaN</td>\n",
              "      <td>NaN</td>\n",
              "      <td>0.000000</td>\n",
              "      <td>NaN</td>\n",
              "      <td>NaN</td>\n",
              "      <td>95.997778</td>\n",
              "      <td>0.000000</td>\n",
              "    </tr>\n",
              "    <tr>\n",
              "      <th>75%</th>\n",
              "      <td>42.700000</td>\n",
              "      <td>4.500000</td>\n",
              "      <td>NaN</td>\n",
              "      <td>NaN</td>\n",
              "      <td>NaN</td>\n",
              "      <td>32.700000</td>\n",
              "      <td>NaN</td>\n",
              "      <td>NaN</td>\n",
              "      <td>NaN</td>\n",
              "      <td>180.000000</td>\n",
              "      <td>19.800000</td>\n",
              "      <td>12.000000</td>\n",
              "      <td>NaN</td>\n",
              "      <td>NaN</td>\n",
              "      <td>0.000000</td>\n",
              "      <td>NaN</td>\n",
              "      <td>NaN</td>\n",
              "      <td>125.684211</td>\n",
              "      <td>0.000000</td>\n",
              "    </tr>\n",
              "    <tr>\n",
              "      <th>max</th>\n",
              "      <td>46.700000</td>\n",
              "      <td>10.000000</td>\n",
              "      <td>NaN</td>\n",
              "      <td>NaN</td>\n",
              "      <td>NaN</td>\n",
              "      <td>36.700000</td>\n",
              "      <td>NaN</td>\n",
              "      <td>NaN</td>\n",
              "      <td>NaN</td>\n",
              "      <td>14800.000000</td>\n",
              "      <td>39.000000</td>\n",
              "      <td>60.000000</td>\n",
              "      <td>NaN</td>\n",
              "      <td>NaN</td>\n",
              "      <td>1.000000</td>\n",
              "      <td>NaN</td>\n",
              "      <td>NaN</td>\n",
              "      <td>425.900000</td>\n",
              "      <td>1.000000</td>\n",
              "    </tr>\n",
              "  </tbody>\n",
              "</table>\n",
              "</div>"
            ],
            "text/plain": [
              "              ALTURA  CAPACIDADE_(L)  ...    ITEM_PRICE    INTERESTED\n",
              "count   27564.000000    27564.000000  ...  27564.000000  27564.000000\n",
              "unique           NaN             NaN  ...           NaN           NaN\n",
              "top              NaN             NaN  ...           NaN           NaN\n",
              "freq             NaN             NaN  ...           NaN           NaN\n",
              "mean       40.545763        4.319963  ...    110.630138      0.086852\n",
              "std         8.748961        1.025585  ...     42.906273      0.281624\n",
              "min         9.000000        0.750000  ...     39.990000      0.000000\n",
              "25%        42.700000        4.500000  ...     94.726667      0.000000\n",
              "50%        42.700000        4.500000  ...     95.997778      0.000000\n",
              "75%        42.700000        4.500000  ...    125.684211      0.000000\n",
              "max        46.700000       10.000000  ...    425.900000      1.000000\n",
              "\n",
              "[11 rows x 19 columns]"
            ]
          },
          "metadata": {
            "tags": []
          },
          "execution_count": 9
        }
      ]
    },
    {
      "cell_type": "code",
      "metadata": {
        "colab": {
          "base_uri": "https://localhost:8080/",
          "height": 288
        },
        "id": "UryQGTrRXzHg",
        "outputId": "faae9e83-496f-4949-c646-442c1bc4e78b"
      },
      "source": [
        "descarte_registro_incompleto.INTERESTED.value_counts().plot.bar()"
      ],
      "execution_count": null,
      "outputs": [
        {
          "output_type": "execute_result",
          "data": {
            "text/plain": [
              "<AxesSubplot:>"
            ]
          },
          "metadata": {
            "tags": []
          },
          "execution_count": 10
        },
        {
          "output_type": "display_data",
          "data": {
            "image/png": "[encoded data removed]",
            "text/plain": [
              "<Figure size 432x288 with 1 Axes>"
            ]
          },
          "metadata": {
            "tags": [],
            "needs_background": "light"
          }
        }
      ]
    },
    {
      "cell_type": "markdown",
      "metadata": {
        "id": "nDVaSnmHYwck"
      },
      "source": [
        "###### **Abordagem drop variable**"
      ]
    },
    {
      "cell_type": "code",
      "metadata": {
        "id": "thtr7H1HjlpI",
        "colab": {
          "base_uri": "https://localhost:8080/"
        },
        "outputId": "bc2884de-9317-495a-f0a7-930d1c54ef6e"
      },
      "source": [
        "# remoção de informações com taxa elevada de dados ausentes\n",
        "def drop_variable(df, porcentagens_descarte, porcent_descarte):\n",
        "  n_panelas = df.shape[0]\n",
        "  a_remover = porcent_faltantes_por_info[porcent_faltantes_por_info > porcent_descarte]\n",
        "  descarte_informacao = df.drop(axis = 1, labels = a_remover.index).dropna()\n",
        "  return descarte_informacao, a_remover.index\n",
        "\n",
        "\n",
        "dados_remanescentes = {}\n",
        "porcent_faltantes_por_info = panelas_data.isna().sum()/n_panelas\n",
        "porcentagens_descarte = [0.1,0.2,0.3,0.4,0.5,0.6]\n",
        "for p in porcentagens_descarte:\n",
        "  descarte_informacao, a_remover = drop_variable(panelas_data, porcent_faltantes_por_info, p)\n",
        "  dados_remanescentes[p] = (descarte_informacao.shape, a_remover)\n",
        "\n",
        "print(\"Dados remanescentes na base de dados por taxa de dados ausentes:\")\n",
        "print(dados_remanescentes)"
      ],
      "execution_count": null,
      "outputs": [
        {
          "output_type": "stream",
          "text": [
            "Dados remanescentes na base de dados por taxa de dados ausentes:\n",
            "{0.1: ((151446, 12), Index(['CAPACIDADE_(L)', 'COMPOSICAO', 'FORMATO', 'PARA_LAVA_LOUCAS',\n",
            "       'PARA_MICRO_ONDAS', 'PESO', 'TEMPO_GARANTIA'],\n",
            "      dtype='object')), 0.2: ((132909, 13), Index(['CAPACIDADE_(L)', 'FORMATO', 'PARA_LAVA_LOUCAS', 'PARA_MICRO_ONDAS',\n",
            "       'PESO', 'TEMPO_GARANTIA'],\n",
            "      dtype='object')), 0.3: ((132909, 13), Index(['CAPACIDADE_(L)', 'FORMATO', 'PARA_LAVA_LOUCAS', 'PARA_MICRO_ONDAS',\n",
            "       'PESO', 'TEMPO_GARANTIA'],\n",
            "      dtype='object')), 0.4: ((103068, 14), Index(['CAPACIDADE_(L)', 'FORMATO', 'PARA_LAVA_LOUCAS', 'PARA_MICRO_ONDAS',\n",
            "       'PESO'],\n",
            "      dtype='object')), 0.5: ((63417, 16), Index(['CAPACIDADE_(L)', 'FORMATO', 'PARA_MICRO_ONDAS'], dtype='object')), 0.6: ((27564, 19), Index([], dtype='object'))}\n"
          ],
          "name": "stdout"
        }
      ]
    },
    {
      "cell_type": "code",
      "metadata": {
        "id": "W1SLa-jO4ygk",
        "colab": {
          "base_uri": "https://localhost:8080/",
          "height": 532
        },
        "outputId": "214ca0b4-6f97-4915-db0b-4b5680a06712"
      },
      "source": [
        "descarte_informacao, a_remover = drop_variable(panelas_data, porcent_faltantes_por_info, 0.3)\n",
        "print(descarte_informacao.describe(include=\"all\"))\n",
        "descarte_informacao.INTERESTED.value_counts().plot.bar()"
      ],
      "execution_count": null,
      "outputs": [
        {
          "output_type": "stream",
          "text": [
            "               ALTURA COMPOSICAO     COR  ...  TIPO_WOK     ITEM_PRICE     INTERESTED\n",
            "count   132909.000000     132909  132909  ...    132909  132909.000000  132909.000000\n",
            "unique            NaN          4      24  ...         2            NaN            NaN\n",
            "top               NaN   ALUMINIO    INOX  ...       NAO            NaN            NaN\n",
            "freq              NaN     101142   27291  ...    100892            NaN            NaN\n",
            "mean        32.288051        NaN     NaN  ...       NaN     125.262816       0.094222\n",
            "std         14.783900        NaN     NaN  ...       NaN      90.675015       0.292139\n",
            "min          2.000000        NaN     NaN  ...       NaN       0.550000       0.000000\n",
            "25%         19.700000        NaN     NaN  ...       NaN      89.990000       0.000000\n",
            "50%         30.500000        NaN     NaN  ...       NaN     106.098723       0.000000\n",
            "75%         44.500000        NaN     NaN  ...       NaN     150.302500       0.000000\n",
            "max         78.250000        NaN     NaN  ...       NaN    1681.000000       1.000000\n",
            "\n",
            "[11 rows x 13 columns]\n"
          ],
          "name": "stdout"
        },
        {
          "output_type": "execute_result",
          "data": {
            "text/plain": [
              "<AxesSubplot:>"
            ]
          },
          "metadata": {
            "tags": []
          },
          "execution_count": 12
        },
        {
          "output_type": "display_data",
          "data": {
            "image/png": "[encoded data removed]",
            "text/plain": [
              "<Figure size 432x288 with 1 Axes>"
            ]
          },
          "metadata": {
            "tags": [],
            "needs_background": "light"
          }
        }
      ]
    },
    {
      "cell_type": "markdown",
      "metadata": {
        "id": "8IBsHC3KO3Sh"
      },
      "source": [
        "###### **Conclusão**\n",
        "\n",
        "Os resultados indicam que ambas abordagens não tem influência significativa na questão do desbalanceamento de classes, que a opção *Listwise* é inviável devido resultar em perdas signicativas de informação (e.g., o número de marcas de panelas decresce de 35 para 9), e que a opção *Drop variables*, mesmo na melhor configuração que consideramos, onde eliminamos informações (colunas) em que 30% dos valores estão ausentes, ainda sofre do mesmo efeito de perda de informação (e.g., o número de marcas decresce de 35 para 26), apesar de que em menor escala.\n",
        "Além do mais, algumas das colunas que seriam removidas, de acordo com a opção *Drop variables*, poderiam ser importantes para o cliente, como o TEMPO_GARANTIA.\n",
        "\n"
      ]
    },
    {
      "cell_type": "markdown",
      "metadata": {
        "id": "Xky8YY1Uk4C6"
      },
      "source": [
        "##### **Imputação de dados**\n",
        "\n",
        "Opções de imputação dos dados passam por técnicas simples de cálculo da média, mediana e moda, ou até mais sofisticadas como interpolação e técnicas baseadas em algoritmos de classificação e regressão, como o *K-Nearest Neighbors* (KNN) e o *Multiple Imputation by Chained Equations* (MICE), dentre outros.\n",
        "A seguir nós discutimos vantagens e desvantagens das técnicas listadas.\n",
        "\n",
        "Apesar da média, mediana e moda solucionarem o problema da ausência de dados de forma rápida, elas tem algumas desvantagens, como reduzir a variância dos dados, que dificulta algoritmos de classificação fazerem bom uso dessas *features* na discriminação das classes.\n",
        "Interpolação, por sua vez, é uma técnica para imputação de valores quantitativos que supõe uma ordenação dos registros, por exemplo, ao longo do tempo e, portanto, não aplicável no contexto atual.\n",
        "\n",
        "Quanto ao KNN, uma estratégia utilizando o vizinho mais próximo do item para servir de referência para a imputação pode ser adotada.\n",
        "Isto é, um valor ausente do registro **A** é preenchido com o valor associado ao mesmo campo de **B**, dado que **B** é o vizinho mais próximo de **A**.\n",
        "Num cenário otimista, todos os registros da tabela terão pelo menos um vizinho mais próximo que se refere a uma cópia dele mesmo (i.e., dois produtos iguals com IDs diferentes) e, portanto, a decisão de imputar os dados seria ideal.\n",
        "No pior cenário, cada registro da tabela se refere a um produto bastante distinto de todos os outros e, mesmo o vizinho mais próximo retornaria um valor distante do real.\n",
        "A desvantagem dessa estratégia remete ao tempo de execução do algoritmo KNN, principalmente em dados com alta dimensionalidade, que se torna lenta devido a necessidade de encontrar o vizinho mais próximo para cada registro.\n",
        "O KNN pode ser executado em até O(n²).\n",
        "Uma possível análise para revelar se a proposta de utilizar o vizinho mais próximo é factível, desconsiderando a questão do desempenho, seria utilizar os dados disponíveis que estão completos e verificar se existem centenas de pequenos grupos de produtos repetidos (i.e., registros repetidos, desconsiderando o ITEM_ID, e possivelmente o ITEM_PRICE).\n",
        "\n",
        "Assim como o KNN, o MICE é um metodo baseado em algoritmos de classificação e regressão (aqui, utilizamos árvore de decisão).\n",
        "No entanto, ele apresenta diversas vantagens em relação aos demais métodos de imputação mais sofisticados: o MICE é barato computacionalmente, não força o programador a lidar com hiperparâmetros e ainda pode retornar valores de *feature importance*, se necessário.\n",
        "Por todas as vantagens e desvantagens de cada método listada, nós executamos o MICE sobre os nossos dados.\n",
        "\n",
        "A seguir, é realizada a conversão das valores categóricos em *One-Hot Encodings* e, logo após, a imputação dos valores com MICE.\n",
        "Perceba que quando fazemos a transformação das informações categóricas em *One-Hot Encodings*, nós perdemos noção de quais valores eram ausentes (i.e., NaN) na base, ou seja, uma informação ausente de um registro apresentará valor 0 ao invés de valor NaN. \n",
        "Manter rastreio dos NaNs é importante para o caso de querermos estimar os valores categóricos ausentes da tabela.\n",
        "\n",
        "No problema atual, nós vamos estimar apenas valores quantitativos ausentes, em razão da natureza dos dados com os quais estamos lidando.\n",
        "Os valores de informações quantitativas ausentes parecem ter relação lógica com outras informações presentes na base de dados, de forma que a estimativa de um valor ausente é facilitada pela presença das demais informações do produto (e.g., estimar a altura do produto baseada na sua capacidade e largura).\n",
        "As informações qualitativas de forma geral, por outro lado, são independentes das demais variáveis do banco de dados, tornando as suas estimativas provavelmente mais imprecisas (e.g., a cor do produto independe da marca, tamanho, preço, etc).\n",
        "Uma análise de Informação Mútua poderia ser executada aqui para dar mais suporte à decisão.\n"
      ]
    },
    {
      "cell_type": "markdown",
      "metadata": {
        "id": "9x96Qjlyam02"
      },
      "source": [
        "###### **Transformação de variáveis categóricas em One-hot Encodings**"
      ]
    },
    {
      "cell_type": "code",
      "metadata": {
        "id": "W9rIJu1wqaMV"
      },
      "source": [
        "dados_codificados = pd.get_dummies(panelas_data, columns=informacoes_categoricas)"
      ],
      "execution_count": null,
      "outputs": []
    },
    {
      "cell_type": "markdown",
      "metadata": {
        "id": "ofzb9Ernawe0"
      },
      "source": [
        "###### **Imputação de valores ausentes com MICE**\n",
        "\n",
        "- A execução da célula a seguir pode levar alguns minutos (menos de 10)."
      ]
    },
    {
      "cell_type": "code",
      "metadata": {
        "id": "T75ODr2DXJfb"
      },
      "source": [
        "# Executa o MICE\n",
        "import miceforest as mf\n",
        "\n",
        "# Cria kernel. \n",
        "kds = mf.KernelDataSet(dados_codificados, save_all_iterations=True, random_state=0)\n",
        "\n",
        "# Executa o MICE para 5 iterações\n",
        "kds.mice(5)\n",
        "\n",
        "# Retorna os dados completos\n",
        "dados_completos_codificados = kds.complete_data()\n"
      ],
      "execution_count": null,
      "outputs": []
    },
    {
      "cell_type": "code",
      "metadata": {
        "id": "FtBImdJGhhgz",
        "colab": {
          "base_uri": "https://localhost:8080/",
          "height": 273
        },
        "outputId": "57cd5c23-282e-47f0-9c60-58b2766fcea9"
      },
      "source": [
        "dados_completos_codificados.head()"
      ],
      "execution_count": null,
      "outputs": [
        {
          "output_type": "execute_result",
          "data": {
            "text/html": [
              "<div>\n",
              "<style scoped>\n",
              "    .dataframe tbody tr th:only-of-type {\n",
              "        vertical-align: middle;\n",
              "    }\n",
              "\n",
              "    .dataframe tbody tr th {\n",
              "        vertical-align: top;\n",
              "    }\n",
              "\n",
              "    .dataframe thead th {\n",
              "        text-align: right;\n",
              "    }\n",
              "</style>\n",
              "<table border=\"1\" class=\"dataframe\">\n",
              "  <thead>\n",
              "    <tr style=\"text-align: right;\">\n",
              "      <th></th>\n",
              "      <th>ALTURA</th>\n",
              "      <th>CAPACIDADE_(L)</th>\n",
              "      <th>LARGURA</th>\n",
              "      <th>PESO</th>\n",
              "      <th>PROFUNDIDADE</th>\n",
              "      <th>TEMPO_GARANTIA</th>\n",
              "      <th>ITEM_PRICE</th>\n",
              "      <th>INTERESTED</th>\n",
              "      <th>COMPOSICAO_ACO ESMALTADO</th>\n",
              "      <th>COMPOSICAO_ALUMINIO</th>\n",
              "      <th>COMPOSICAO_CERAMICA</th>\n",
              "      <th>COMPOSICAO_INOX</th>\n",
              "      <th>COMPOSICAO_PORCELANA</th>\n",
              "      <th>COR_ACACIA</th>\n",
              "      <th>COR_AMARELO</th>\n",
              "      <th>COR_AZUL</th>\n",
              "      <th>COR_BERINGELA</th>\n",
              "      <th>COR_BRANCO</th>\n",
              "      <th>COR_CEREJA</th>\n",
              "      <th>COR_CHOCOLATE</th>\n",
              "      <th>COR_CINZA</th>\n",
              "      <th>COR_COBRE</th>\n",
              "      <th>COR_COLORIDO</th>\n",
              "      <th>COR_FENDI</th>\n",
              "      <th>COR_GOIABA</th>\n",
              "      <th>COR_GRAFITE</th>\n",
              "      <th>COR_INOX</th>\n",
              "      <th>COR_LARANJA</th>\n",
              "      <th>COR_MARROM</th>\n",
              "      <th>COR_PRATA</th>\n",
              "      <th>COR_PRETO</th>\n",
              "      <th>COR_ROSA</th>\n",
              "      <th>COR_ROXO</th>\n",
              "      <th>COR_TURQUESA</th>\n",
              "      <th>COR_VERDE</th>\n",
              "      <th>COR_VERMELHO</th>\n",
              "      <th>COR_VINHO</th>\n",
              "      <th>FORMATO_FRIGIDEIRA</th>\n",
              "      <th>FORMATO_OVAL</th>\n",
              "      <th>FORMATO_QUADRADO</th>\n",
              "      <th>...</th>\n",
              "      <th>TIPO_PRODUTO_ASSADEIRA</th>\n",
              "      <th>TIPO_PRODUTO_BIFETEIRA</th>\n",
              "      <th>TIPO_PRODUTO_BISTEQUEIRA</th>\n",
              "      <th>TIPO_PRODUTO_BULE</th>\n",
              "      <th>TIPO_PRODUTO_CACAROLA</th>\n",
              "      <th>TIPO_PRODUTO_CALDEIRAO</th>\n",
              "      <th>TIPO_PRODUTO_CANECA/FERVEDOR</th>\n",
              "      <th>TIPO_PRODUTO_CANECO</th>\n",
              "      <th>TIPO_PRODUTO_CHALEIRA</th>\n",
              "      <th>TIPO_PRODUTO_CHAPA</th>\n",
              "      <th>TIPO_PRODUTO_COZI-PASTA</th>\n",
              "      <th>TIPO_PRODUTO_COZI-VAPORE</th>\n",
              "      <th>TIPO_PRODUTO_CREMEIRA</th>\n",
              "      <th>TIPO_PRODUTO_CUMBUCA</th>\n",
              "      <th>TIPO_PRODUTO_CUSCUZEIRA</th>\n",
              "      <th>TIPO_PRODUTO_CUSCUZEIRO</th>\n",
              "      <th>TIPO_PRODUTO_ESPAGUETEIRA</th>\n",
              "      <th>TIPO_PRODUTO_FERVEDOR</th>\n",
              "      <th>TIPO_PRODUTO_FOGAREIRO</th>\n",
              "      <th>TIPO_PRODUTO_FONDUE</th>\n",
              "      <th>TIPO_PRODUTO_FORMA</th>\n",
              "      <th>TIPO_PRODUTO_FORNO</th>\n",
              "      <th>TIPO_PRODUTO_FRIGIDEIRA</th>\n",
              "      <th>TIPO_PRODUTO_FRITADEIRA</th>\n",
              "      <th>TIPO_PRODUTO_GRILL</th>\n",
              "      <th>TIPO_PRODUTO_LEITEIRA</th>\n",
              "      <th>TIPO_PRODUTO_MINI-CACAROLA</th>\n",
              "      <th>TIPO_PRODUTO_OMELETEIRA</th>\n",
              "      <th>TIPO_PRODUTO_PAELLERA</th>\n",
              "      <th>TIPO_PRODUTO_PANELA</th>\n",
              "      <th>TIPO_PRODUTO_PANQUEQUEIRA</th>\n",
              "      <th>TIPO_PRODUTO_PAPEIRO</th>\n",
              "      <th>TIPO_PRODUTO_PIPOQUEIRA</th>\n",
              "      <th>TIPO_PRODUTO_PRENSADOR</th>\n",
              "      <th>TIPO_PRODUTO_SANDUICHEIRA</th>\n",
              "      <th>TIPO_PRODUTO_TAMPA</th>\n",
              "      <th>TIPO_PRODUTO_VAPORELLA</th>\n",
              "      <th>TIPO_PRODUTO_WOK</th>\n",
              "      <th>TIPO_WOK_NAO</th>\n",
              "      <th>TIPO_WOK_SIM</th>\n",
              "    </tr>\n",
              "  </thead>\n",
              "  <tbody>\n",
              "    <tr>\n",
              "      <th>0</th>\n",
              "      <td>30.5</td>\n",
              "      <td>3.6</td>\n",
              "      <td>14.0</td>\n",
              "      <td>480.0</td>\n",
              "      <td>50.0</td>\n",
              "      <td>3.0</td>\n",
              "      <td>199.990000</td>\n",
              "      <td>0.0</td>\n",
              "      <td>0</td>\n",
              "      <td>1</td>\n",
              "      <td>0</td>\n",
              "      <td>0</td>\n",
              "      <td>0</td>\n",
              "      <td>0</td>\n",
              "      <td>0</td>\n",
              "      <td>0</td>\n",
              "      <td>0</td>\n",
              "      <td>0</td>\n",
              "      <td>0</td>\n",
              "      <td>0</td>\n",
              "      <td>0</td>\n",
              "      <td>0</td>\n",
              "      <td>0</td>\n",
              "      <td>0</td>\n",
              "      <td>0</td>\n",
              "      <td>0</td>\n",
              "      <td>0</td>\n",
              "      <td>0</td>\n",
              "      <td>0</td>\n",
              "      <td>0</td>\n",
              "      <td>0</td>\n",
              "      <td>0</td>\n",
              "      <td>0</td>\n",
              "      <td>0</td>\n",
              "      <td>0</td>\n",
              "      <td>0</td>\n",
              "      <td>1</td>\n",
              "      <td>0</td>\n",
              "      <td>0</td>\n",
              "      <td>0</td>\n",
              "      <td>...</td>\n",
              "      <td>0</td>\n",
              "      <td>0</td>\n",
              "      <td>0</td>\n",
              "      <td>0</td>\n",
              "      <td>0</td>\n",
              "      <td>0</td>\n",
              "      <td>0</td>\n",
              "      <td>0</td>\n",
              "      <td>0</td>\n",
              "      <td>0</td>\n",
              "      <td>0</td>\n",
              "      <td>0</td>\n",
              "      <td>0</td>\n",
              "      <td>0</td>\n",
              "      <td>0</td>\n",
              "      <td>0</td>\n",
              "      <td>0</td>\n",
              "      <td>0</td>\n",
              "      <td>0</td>\n",
              "      <td>0</td>\n",
              "      <td>0</td>\n",
              "      <td>0</td>\n",
              "      <td>0</td>\n",
              "      <td>0</td>\n",
              "      <td>0</td>\n",
              "      <td>0</td>\n",
              "      <td>0</td>\n",
              "      <td>0</td>\n",
              "      <td>0</td>\n",
              "      <td>1</td>\n",
              "      <td>0</td>\n",
              "      <td>0</td>\n",
              "      <td>0</td>\n",
              "      <td>0</td>\n",
              "      <td>0</td>\n",
              "      <td>0</td>\n",
              "      <td>0</td>\n",
              "      <td>0</td>\n",
              "      <td>1</td>\n",
              "      <td>0</td>\n",
              "    </tr>\n",
              "    <tr>\n",
              "      <th>1</th>\n",
              "      <td>22.0</td>\n",
              "      <td>4.2</td>\n",
              "      <td>24.0</td>\n",
              "      <td>150.0</td>\n",
              "      <td>40.0</td>\n",
              "      <td>12.0</td>\n",
              "      <td>105.112581</td>\n",
              "      <td>0.0</td>\n",
              "      <td>0</td>\n",
              "      <td>1</td>\n",
              "      <td>0</td>\n",
              "      <td>0</td>\n",
              "      <td>0</td>\n",
              "      <td>0</td>\n",
              "      <td>0</td>\n",
              "      <td>0</td>\n",
              "      <td>0</td>\n",
              "      <td>0</td>\n",
              "      <td>0</td>\n",
              "      <td>0</td>\n",
              "      <td>0</td>\n",
              "      <td>0</td>\n",
              "      <td>1</td>\n",
              "      <td>0</td>\n",
              "      <td>0</td>\n",
              "      <td>0</td>\n",
              "      <td>0</td>\n",
              "      <td>0</td>\n",
              "      <td>0</td>\n",
              "      <td>0</td>\n",
              "      <td>0</td>\n",
              "      <td>0</td>\n",
              "      <td>0</td>\n",
              "      <td>0</td>\n",
              "      <td>0</td>\n",
              "      <td>0</td>\n",
              "      <td>0</td>\n",
              "      <td>0</td>\n",
              "      <td>0</td>\n",
              "      <td>0</td>\n",
              "      <td>...</td>\n",
              "      <td>0</td>\n",
              "      <td>0</td>\n",
              "      <td>0</td>\n",
              "      <td>0</td>\n",
              "      <td>0</td>\n",
              "      <td>0</td>\n",
              "      <td>0</td>\n",
              "      <td>0</td>\n",
              "      <td>0</td>\n",
              "      <td>0</td>\n",
              "      <td>0</td>\n",
              "      <td>0</td>\n",
              "      <td>0</td>\n",
              "      <td>0</td>\n",
              "      <td>0</td>\n",
              "      <td>0</td>\n",
              "      <td>0</td>\n",
              "      <td>0</td>\n",
              "      <td>0</td>\n",
              "      <td>0</td>\n",
              "      <td>0</td>\n",
              "      <td>0</td>\n",
              "      <td>0</td>\n",
              "      <td>0</td>\n",
              "      <td>0</td>\n",
              "      <td>0</td>\n",
              "      <td>0</td>\n",
              "      <td>0</td>\n",
              "      <td>0</td>\n",
              "      <td>0</td>\n",
              "      <td>0</td>\n",
              "      <td>0</td>\n",
              "      <td>1</td>\n",
              "      <td>0</td>\n",
              "      <td>0</td>\n",
              "      <td>0</td>\n",
              "      <td>0</td>\n",
              "      <td>0</td>\n",
              "      <td>1</td>\n",
              "      <td>0</td>\n",
              "    </tr>\n",
              "    <tr>\n",
              "      <th>2</th>\n",
              "      <td>24.0</td>\n",
              "      <td>3.6</td>\n",
              "      <td>20.0</td>\n",
              "      <td>190.0</td>\n",
              "      <td>20.0</td>\n",
              "      <td>3.0</td>\n",
              "      <td>139.990000</td>\n",
              "      <td>0.0</td>\n",
              "      <td>0</td>\n",
              "      <td>0</td>\n",
              "      <td>0</td>\n",
              "      <td>1</td>\n",
              "      <td>0</td>\n",
              "      <td>0</td>\n",
              "      <td>0</td>\n",
              "      <td>0</td>\n",
              "      <td>0</td>\n",
              "      <td>0</td>\n",
              "      <td>0</td>\n",
              "      <td>0</td>\n",
              "      <td>0</td>\n",
              "      <td>0</td>\n",
              "      <td>0</td>\n",
              "      <td>0</td>\n",
              "      <td>0</td>\n",
              "      <td>0</td>\n",
              "      <td>1</td>\n",
              "      <td>0</td>\n",
              "      <td>0</td>\n",
              "      <td>0</td>\n",
              "      <td>0</td>\n",
              "      <td>0</td>\n",
              "      <td>0</td>\n",
              "      <td>0</td>\n",
              "      <td>0</td>\n",
              "      <td>0</td>\n",
              "      <td>0</td>\n",
              "      <td>0</td>\n",
              "      <td>0</td>\n",
              "      <td>0</td>\n",
              "      <td>...</td>\n",
              "      <td>0</td>\n",
              "      <td>0</td>\n",
              "      <td>0</td>\n",
              "      <td>0</td>\n",
              "      <td>0</td>\n",
              "      <td>0</td>\n",
              "      <td>0</td>\n",
              "      <td>0</td>\n",
              "      <td>0</td>\n",
              "      <td>0</td>\n",
              "      <td>0</td>\n",
              "      <td>0</td>\n",
              "      <td>0</td>\n",
              "      <td>0</td>\n",
              "      <td>0</td>\n",
              "      <td>0</td>\n",
              "      <td>1</td>\n",
              "      <td>0</td>\n",
              "      <td>0</td>\n",
              "      <td>0</td>\n",
              "      <td>0</td>\n",
              "      <td>0</td>\n",
              "      <td>0</td>\n",
              "      <td>0</td>\n",
              "      <td>0</td>\n",
              "      <td>0</td>\n",
              "      <td>0</td>\n",
              "      <td>0</td>\n",
              "      <td>0</td>\n",
              "      <td>0</td>\n",
              "      <td>0</td>\n",
              "      <td>0</td>\n",
              "      <td>0</td>\n",
              "      <td>0</td>\n",
              "      <td>0</td>\n",
              "      <td>0</td>\n",
              "      <td>0</td>\n",
              "      <td>0</td>\n",
              "      <td>1</td>\n",
              "      <td>0</td>\n",
              "    </tr>\n",
              "    <tr>\n",
              "      <th>3</th>\n",
              "      <td>49.5</td>\n",
              "      <td>6.0</td>\n",
              "      <td>41.5</td>\n",
              "      <td>120.0</td>\n",
              "      <td>47.0</td>\n",
              "      <td>12.0</td>\n",
              "      <td>103.293333</td>\n",
              "      <td>1.0</td>\n",
              "      <td>0</td>\n",
              "      <td>1</td>\n",
              "      <td>0</td>\n",
              "      <td>0</td>\n",
              "      <td>0</td>\n",
              "      <td>0</td>\n",
              "      <td>0</td>\n",
              "      <td>0</td>\n",
              "      <td>0</td>\n",
              "      <td>0</td>\n",
              "      <td>0</td>\n",
              "      <td>0</td>\n",
              "      <td>0</td>\n",
              "      <td>0</td>\n",
              "      <td>0</td>\n",
              "      <td>0</td>\n",
              "      <td>0</td>\n",
              "      <td>0</td>\n",
              "      <td>0</td>\n",
              "      <td>0</td>\n",
              "      <td>0</td>\n",
              "      <td>0</td>\n",
              "      <td>0</td>\n",
              "      <td>0</td>\n",
              "      <td>0</td>\n",
              "      <td>0</td>\n",
              "      <td>0</td>\n",
              "      <td>1</td>\n",
              "      <td>0</td>\n",
              "      <td>0</td>\n",
              "      <td>0</td>\n",
              "      <td>0</td>\n",
              "      <td>...</td>\n",
              "      <td>0</td>\n",
              "      <td>0</td>\n",
              "      <td>0</td>\n",
              "      <td>0</td>\n",
              "      <td>0</td>\n",
              "      <td>0</td>\n",
              "      <td>0</td>\n",
              "      <td>0</td>\n",
              "      <td>0</td>\n",
              "      <td>0</td>\n",
              "      <td>0</td>\n",
              "      <td>0</td>\n",
              "      <td>0</td>\n",
              "      <td>0</td>\n",
              "      <td>0</td>\n",
              "      <td>0</td>\n",
              "      <td>0</td>\n",
              "      <td>0</td>\n",
              "      <td>0</td>\n",
              "      <td>0</td>\n",
              "      <td>0</td>\n",
              "      <td>0</td>\n",
              "      <td>0</td>\n",
              "      <td>0</td>\n",
              "      <td>0</td>\n",
              "      <td>0</td>\n",
              "      <td>0</td>\n",
              "      <td>0</td>\n",
              "      <td>0</td>\n",
              "      <td>0</td>\n",
              "      <td>0</td>\n",
              "      <td>0</td>\n",
              "      <td>1</td>\n",
              "      <td>0</td>\n",
              "      <td>0</td>\n",
              "      <td>0</td>\n",
              "      <td>0</td>\n",
              "      <td>0</td>\n",
              "      <td>1</td>\n",
              "      <td>0</td>\n",
              "    </tr>\n",
              "    <tr>\n",
              "      <th>4</th>\n",
              "      <td>49.5</td>\n",
              "      <td>6.0</td>\n",
              "      <td>41.5</td>\n",
              "      <td>120.0</td>\n",
              "      <td>47.0</td>\n",
              "      <td>12.0</td>\n",
              "      <td>103.330242</td>\n",
              "      <td>0.0</td>\n",
              "      <td>0</td>\n",
              "      <td>1</td>\n",
              "      <td>0</td>\n",
              "      <td>0</td>\n",
              "      <td>0</td>\n",
              "      <td>0</td>\n",
              "      <td>0</td>\n",
              "      <td>0</td>\n",
              "      <td>0</td>\n",
              "      <td>0</td>\n",
              "      <td>0</td>\n",
              "      <td>0</td>\n",
              "      <td>0</td>\n",
              "      <td>0</td>\n",
              "      <td>0</td>\n",
              "      <td>0</td>\n",
              "      <td>0</td>\n",
              "      <td>0</td>\n",
              "      <td>0</td>\n",
              "      <td>0</td>\n",
              "      <td>0</td>\n",
              "      <td>0</td>\n",
              "      <td>0</td>\n",
              "      <td>0</td>\n",
              "      <td>0</td>\n",
              "      <td>0</td>\n",
              "      <td>0</td>\n",
              "      <td>1</td>\n",
              "      <td>0</td>\n",
              "      <td>0</td>\n",
              "      <td>0</td>\n",
              "      <td>0</td>\n",
              "      <td>...</td>\n",
              "      <td>0</td>\n",
              "      <td>0</td>\n",
              "      <td>0</td>\n",
              "      <td>0</td>\n",
              "      <td>0</td>\n",
              "      <td>0</td>\n",
              "      <td>0</td>\n",
              "      <td>0</td>\n",
              "      <td>0</td>\n",
              "      <td>0</td>\n",
              "      <td>0</td>\n",
              "      <td>0</td>\n",
              "      <td>0</td>\n",
              "      <td>0</td>\n",
              "      <td>0</td>\n",
              "      <td>0</td>\n",
              "      <td>0</td>\n",
              "      <td>0</td>\n",
              "      <td>0</td>\n",
              "      <td>0</td>\n",
              "      <td>0</td>\n",
              "      <td>0</td>\n",
              "      <td>0</td>\n",
              "      <td>0</td>\n",
              "      <td>0</td>\n",
              "      <td>0</td>\n",
              "      <td>0</td>\n",
              "      <td>0</td>\n",
              "      <td>0</td>\n",
              "      <td>0</td>\n",
              "      <td>0</td>\n",
              "      <td>0</td>\n",
              "      <td>1</td>\n",
              "      <td>0</td>\n",
              "      <td>0</td>\n",
              "      <td>0</td>\n",
              "      <td>0</td>\n",
              "      <td>0</td>\n",
              "      <td>1</td>\n",
              "      <td>0</td>\n",
              "    </tr>\n",
              "  </tbody>\n",
              "</table>\n",
              "<p>5 rows × 128 columns</p>\n",
              "</div>"
            ],
            "text/plain": [
              "   ALTURA  CAPACIDADE_(L)  ...  TIPO_WOK_NAO  TIPO_WOK_SIM\n",
              "0    30.5             3.6  ...             1             0\n",
              "1    22.0             4.2  ...             1             0\n",
              "2    24.0             3.6  ...             1             0\n",
              "3    49.5             6.0  ...             1             0\n",
              "4    49.5             6.0  ...             1             0\n",
              "\n",
              "[5 rows x 128 columns]"
            ]
          },
          "metadata": {
            "tags": []
          },
          "execution_count": 15
        }
      ]
    },
    {
      "cell_type": "markdown",
      "metadata": {
        "id": "p2Db-2eoYgoR"
      },
      "source": [
        "###### **Análise de distribuição dos dados**\n",
        "\n",
        "Dado que houve a inserção de novos valores nos registros da base de dados, e tomando como verdade que os valores ausentes se devem à motivos completamente aletórios, é no mínimo interessante que verifiquemos a distribuição dos valores estimados e os comparemos à distribuição dos valores originais.\n",
        "Distribuições semelhantes nos dão mais confiança que os valores estimados estão próximos ao valor real da *feature*.\n",
        "\n",
        "A seguir nós plotamos para cada *feature*, em vermelho, o gráfico de densidade da distribuição original e, em preto, o gráfico da distribuição dos novos valores.\n",
        "A *feature* referente ao gráfico é indicada abaixo do gráfico.\n",
        "Em seguida, plotamos o gráfico de importância de cada *feature* para fazer a estimativa de valor das demais.\n",
        "Por exemplo, vemos que as *features* LARGURA, ALTURA e PROFUNDIDADE tiveram maior importância que as demais para estimar os valores ausentes de ITEM_PRICE.\n"
      ]
    },
    {
      "cell_type": "markdown",
      "metadata": {
        "id": "mJRiYJ0OivLM"
      },
      "source": [
        "###### Distribuição dos valores imputados"
      ]
    },
    {
      "cell_type": "code",
      "metadata": {
        "colab": {
          "base_uri": "https://localhost:8080/",
          "height": 281
        },
        "id": "eKtkMtLOrlQ9",
        "outputId": "05d311fd-9d58-48d9-d91c-6d2eb87b7276"
      },
      "source": [
        "kds.plot_imputed_distributions(wspace=1, hspace=1)"
      ],
      "execution_count": null,
      "outputs": [
        {
          "output_type": "display_data",
          "data": {
            "image/png": "[encoded data removed]",
            "text/plain": [
              "<Figure size 432x288 with 9 Axes>"
            ]
          },
          "metadata": {
            "tags": [],
            "needs_background": "light"
          }
        }
      ]
    },
    {
      "cell_type": "markdown",
      "metadata": {
        "id": "QesSOhgci93H"
      },
      "source": [
        "###### Features mais importantes para imputação"
      ]
    },
    {
      "cell_type": "code",
      "metadata": {
        "id": "qkCZCACLdaex"
      },
      "source": [
        "importancias = kds.get_feature_importance()\n",
        "nome_features_mais_importantes = [col for col in importancias.columns if (importancias[col] > 0.05).any()]\n",
        "features_mais_importantes = importancias[nome_features_mais_importantes]"
      ],
      "execution_count": null,
      "outputs": []
    },
    {
      "cell_type": "code",
      "metadata": {
        "colab": {
          "base_uri": "https://localhost:8080/",
          "height": 489
        },
        "id": "CCHfCzvyhXO6",
        "outputId": "6a8fd411-49da-4076-9dd9-edadb68f9fd1"
      },
      "source": [
        "import seaborn as sns\n",
        "\n",
        "sns.heatmap(features_mais_importantes)"
      ],
      "execution_count": null,
      "outputs": [
        {
          "output_type": "execute_result",
          "data": {
            "text/plain": [
              "<AxesSubplot:>"
            ]
          },
          "metadata": {
            "tags": []
          },
          "execution_count": 18
        },
        {
          "output_type": "display_data",
          "data": {
            "image/png": "[encoded data removed]",
            "text/plain": [
              "<Figure size 432x288 with 2 Axes>"
            ]
          },
          "metadata": {
            "tags": [],
            "needs_background": "light"
          }
        }
      ]
    },
    {
      "cell_type": "markdown",
      "metadata": {
        "id": "atB6W16ExteQ"
      },
      "source": [
        "##### **Conclusão**\n",
        "\n",
        "Os gráficos de densidade indicam que a distribuição dos valores imputados se assemelham à distribuição dos valores originais, estando os valores estimados dentro da faixa de maior densidade dos valores reais.\n",
        "A exceção mais evidente se dá na *feature* ALTURA.\n",
        "No geral, temos uma boa indicação que os valores foram bem estimados pelo modelo.\n",
        "\n",
        "Por entendermos que as distribuições dos novos dados e dos dados originais se assemelham uma à outra, pela vantagem de não descartarmos informações que podem ser essenciais no momento de classificar um produto como interessante para o cliente, e ainda lembrando que as técnicas de descarte dos dados não resultaram em classes mais balanceadas, nós seguiremos a análise com a base de dados criada a partir da imputação de dados ausentes."
      ]
    },
    {
      "cell_type": "markdown",
      "metadata": {
        "id": "_28pc3oxRKZ5"
      },
      "source": [
        "## **Divisão em treino e teste**\n",
        "\n",
        "O critério de divisão da base de dados em base de treino e teste se relaciona diretamente com o objetivo da análise.\n",
        "Por exemplo, num problema onde se trabalha com séries temporais, ordenar os registros da base de dados pelo fator tempo é crucial e portanto, uma estratégia como dividir base de treino e teste de forma totalmente aleatória pode ser problemático.\n",
        "No nosso contexto, por outro lado, onde temos um problema de classificação sem dependência de fatores como o tempo, essa divisão de aleatória de treino e teste é ideal e benéfica por diminuir a chance de estarmos enviesando o modelo por seguir algum critério.\n",
        "\n",
        "Quanto à proporção da base destinada ao treino e ao teste, usualmente se utiliza valores entre 60/40% e 90/10% da base para treino e teste, respectivamente.\n",
        "Nós vamos adotar os valores de **67%** para treino e **33%** para teste.\n",
        "\n",
        "Abaixo, nós separamos a variável alvo (**INTERESTED**) das demais variáveis independentes e fazemos a divisão das bases de treino e teste.\n",
        "A fim de investigar qual é a melhor abordagem de *resampling* para o nosso problema, a base de treino será criada de três formas distintas: 1) sem ter suas classes balanceadas, 2) balanceando as classes através de técnicas de *Oversampling*, e 3) balanceando as classes através de *Undersampling*.\n",
        "\n",
        "Dentre as técnicas disponíveis de *Oversampling*, nós escolhemos utilizar o SMOTE, enquanto para *Undersampling*, nós utilizamos o Tomek Link associado ao *Random Undersampling*.\n",
        "O SMOTE baseia-se em registros originais dos dados para criar registros sintéticos semelhantes aos originais. A sua vantagem em relação ao método de *Random Oversampling* é que o random apenas duplica algumas instâncias da base de dados, possibilitando o enviesamento do modelo que for treinado usando esses dados enquanto o SMOTE cria novos registros únicos.\n",
        "O Tomek Link é um método de *Undersampling* que busca facilitar a separação dos registros das diferentes classes a partir da remoção de pares de registros de classes diferentes que estão muito próximos um do outro.\n",
        "Já o *Random Undersampling* remove registros da classe majoritária aleatóriamente até a base de dados estar divida igualmente entre as classes.\n",
        "\n",
        "Outras estratégias de *Oversampling* e *Undersampling*, ou mesmo a combinação de ambas técnicas, também poderiam ser utilizadas. \n",
        "Por exemplo, poderíamos ter feito *Undersampling* a partir da eliminação de registros da classe majoritária que apresentaram algum valor ausente.\n",
        "Apesar das demais estratégias serem válidas, nós acreditamos que os seus resultados não diferem significativamente das que seguiremos.\n",
        "Assim, para não alongar demais a análise, nós vamos seguir apenas com as estratégias propostas anteriormente.\n"
      ]
    },
    {
      "cell_type": "markdown",
      "metadata": {
        "id": "QS5fRQnnpcpn"
      },
      "source": [
        "### **Sem aplicação de técnicas de balanceamento**\n"
      ]
    },
    {
      "cell_type": "code",
      "metadata": {
        "id": "56gq8JPeHS4d"
      },
      "source": [
        "from sklearn.model_selection import train_test_split\n",
        "\n",
        "y = dados_completos_codificados.INTERESTED\n",
        "X = dados_completos_codificados.drop(\"INTERESTED\", axis=1)\n",
        "\n",
        "X_train, X_test, y_train, y_test = train_test_split(\n",
        "    X, y, test_size=0.33, random_state=42, stratify=y)"
      ],
      "execution_count": null,
      "outputs": []
    },
    {
      "cell_type": "code",
      "metadata": {
        "colab": {
          "base_uri": "https://localhost:8080/"
        },
        "id": "lsfJEVaMgE67",
        "outputId": "68b90fd7-6545-497f-c5a6-74488576da5d"
      },
      "source": [
        "y_train.value_counts()"
      ],
      "execution_count": null,
      "outputs": [
        {
          "output_type": "execute_result",
          "data": {
            "text/plain": [
              "0.0    110381\n",
              "1.0     10403\n",
              "Name: INTERESTED, dtype: int64"
            ]
          },
          "metadata": {
            "tags": []
          },
          "execution_count": 20
        }
      ]
    },
    {
      "cell_type": "markdown",
      "metadata": {
        "id": "MSMhFnJZpnze"
      },
      "source": [
        "### **Aplicação de Oversampling**"
      ]
    },
    {
      "cell_type": "code",
      "metadata": {
        "colab": {
          "base_uri": "https://localhost:8080/"
        },
        "id": "3I7uXIELdXNG",
        "outputId": "1abdb51d-72fa-4888-dc88-cca2cfb4c1b1"
      },
      "source": [
        "from imblearn.over_sampling import SMOTE \n",
        "from collections import Counter\n",
        "\n",
        "sm = SMOTE(random_state=2, sampling_strategy=\"minority\")\n",
        "X_SMOTE, y_SMOTE = sm.fit_resample(X_train, y_train)\n",
        "\n",
        "print(\"========\")\n",
        "print('Registros pós Oversampling com SMOTE: %s' % Counter(y_SMOTE))\n",
        "print(\"========\")"
      ],
      "execution_count": null,
      "outputs": [
        {
          "output_type": "stream",
          "text": [
            "/usr/local/lib/python3.6/dist-packages/sklearn/externals/six.py:31: FutureWarning: The module is deprecated in version 0.21 and will be removed in version 0.23 since we've dropped support for Python 2.7. Please rely on the official version of six (https://pypi.org/project/six/).\n",
            "  \"(https://pypi.org/project/six/).\", FutureWarning)\n",
            "/usr/local/lib/python3.6/dist-packages/sklearn/utils/deprecation.py:144: FutureWarning: The sklearn.neighbors.base module is  deprecated in version 0.22 and will be removed in version 0.24. The corresponding classes / functions should instead be imported from sklearn.neighbors. Anything that cannot be imported from sklearn.neighbors is now part of the private API.\n",
            "  warnings.warn(message, FutureWarning)\n",
            "/usr/local/lib/python3.6/dist-packages/sklearn/utils/deprecation.py:87: FutureWarning: Function safe_indexing is deprecated; safe_indexing is deprecated in version 0.22 and will be removed in version 0.24.\n",
            "  warnings.warn(msg, category=FutureWarning)\n"
          ],
          "name": "stderr"
        },
        {
          "output_type": "stream",
          "text": [
            "========\n",
            "Registros pós Oversampling com SMOTE: Counter({0.0: 110381, 1.0: 110381})\n",
            "========\n"
          ],
          "name": "stdout"
        }
      ]
    },
    {
      "cell_type": "markdown",
      "metadata": {
        "id": "0sqhML3Tp1fX"
      },
      "source": [
        "### **Aplicação de Undersampling**"
      ]
    },
    {
      "cell_type": "code",
      "metadata": {
        "colab": {
          "base_uri": "https://localhost:8080/"
        },
        "id": "UgKrkYnZg49B",
        "outputId": "bf5d6a6a-8790-413f-ac29-86fa16e77f21"
      },
      "source": [
        "from imblearn.under_sampling import TomekLinks\n",
        "from imblearn.under_sampling import RandomUnderSampler\n",
        "\n",
        "tl = TomekLinks(random_state=3)\n",
        "X_tl, y_tl = tl.fit_resample(X_train, y_train)\n",
        "\n",
        "ru = RandomUnderSampler(random_state=4)\n",
        "X_under, y_under = ru.fit_resample(X_tl, y_tl)\n",
        "\n",
        "print(\"========\")\n",
        "print('Registros pós Undersampling com TomekLink e Random Undersampling: %s' % Counter(y_under))\n",
        "print(\"========\")"
      ],
      "execution_count": null,
      "outputs": [
        {
          "output_type": "stream",
          "text": [
            "========\n",
            "Registros pós Undersampling com TomekLink e Random Undersampling: Counter({0.0: 10403, 1.0: 10403})\n",
            "========\n"
          ],
          "name": "stdout"
        },
        {
          "output_type": "stream",
          "text": [
            "/usr/local/lib/python3.6/dist-packages/sklearn/utils/deprecation.py:87: FutureWarning: Function safe_indexing is deprecated; safe_indexing is deprecated in version 0.22 and will be removed in version 0.24.\n",
            "  warnings.warn(msg, category=FutureWarning)\n",
            "/usr/local/lib/python3.6/dist-packages/sklearn/utils/deprecation.py:87: FutureWarning: Function safe_indexing is deprecated; safe_indexing is deprecated in version 0.22 and will be removed in version 0.24.\n",
            "  warnings.warn(msg, category=FutureWarning)\n"
          ],
          "name": "stderr"
        }
      ]
    },
    {
      "cell_type": "markdown",
      "metadata": {
        "id": "Si66rB_TRKuR"
      },
      "source": [
        "## **Treinar modelos de classificação**\n",
        "\n",
        "Nesta etapa nós estaremos treinando um modelo de Àrvore de Decisão para cada uma das bases de treino criadas na etapa anterior.\n",
        "Lembrando que a Árvore de Decisão foi o algoritmo escolhido para esta etapa devido lidar bem com dados desbalanceados.\n",
        "Mas, além disso, ela também tem a vantagem de ser um modelo interpretável, que facilitará o entendimento dos atributos que impulsionam o interesse por um produto.\n",
        "\n",
        "Para cada modelo treinado, nós fazemos o *tuning* do hiperparâtro *max_depth*, reponsável por definir um valor máximo de profundidade das árvores de decisão, através da técnica *cross validation*.\n",
        "É importante salientar que nós estamos fazendo o *tuning* de apenas um hiperparâmetro para demonstrar a motivação do *cross validation* e executar o treinamento do modelo rapidamente. \n",
        "No entanto, num cenário real, seria necessário tunar os demais hiperparâmetros da árvore.\n",
        "O método **GridSearchCV** serviria para esse propósito.\n",
        "\n",
        "A seguir, nós treinamos os modelos, definimos o melhor valor de *max_depth* para cada um e, logo após, testamos os modelos na base de teste."
      ]
    },
    {
      "cell_type": "markdown",
      "metadata": {
        "id": "JiXkQA5Q66lH"
      },
      "source": [
        "### **Treinamento e tuning dos modelos**\n",
        "\n",
        "Nas figuras abaixo, nós apresentamos os valores de F-measure, Precision e Recall atingidos durante o *cross validation* para as diferentes estratégias de balanceamento de dados e valor de *max_depth*.\n",
        "Quanto maior o valor das métricas, maior a chance daquele *setting* do modelo performar bem no conjunto de testes. \n",
        "Portanto, o *setting* de cada modelo que apresentar maior valor das métricas será escolhido para seguir adiante e ser executado no conjunto de testes.\n"
      ]
    },
    {
      "cell_type": "code",
      "metadata": {
        "id": "s_z9BAsYVDrk"
      },
      "source": [
        "#from sklearn.ensemble import RandomForestClassifier\n",
        "from sklearn.tree import DecisionTreeClassifier\n",
        "from sklearn.model_selection import cross_validate\n",
        "import matplotlib.pyplot as plt\n",
        "\n",
        "max_depth_range_options = [10,20,30,40,50,60,70,80,90,100]\n",
        "scoring = ['precision', 'recall','f1']\n",
        "\n",
        "def get_metricas_treino(X, y):\n",
        "  precisions = []\n",
        "  recalls = []\n",
        "  f1s = []\n",
        "  for md in max_depth_range_options:\n",
        "    #rf = RandomForestClassifier(n_estimators=1, max_depth=md, random_state=1)\n",
        "    rf = DecisionTreeClassifier(max_depth=md, random_state=1, criterion=\"entropy\")\n",
        "    scores = cross_validate(rf, X, y, scoring=scoring, cv=2)\n",
        "    precisions.append(scores['test_precision'])\n",
        "    recalls.append(scores['test_recall'])\n",
        "    f1s.append(scores['test_f1'])\n",
        "  return precisions, recalls, f1s\n",
        "\n",
        "def desmembra_lista(metrica_list):\n",
        "  pos0s = []\n",
        "  pos1s = []\n",
        "  for pos0, pos1 in metrica_list:\n",
        "    pos0s.append(pos0)\n",
        "    pos1s.append(pos1)\n",
        "  return pos0s, pos1s\n",
        "\n",
        "def plot_grafico_validacao_depth(max_depth_range_options, precisions, recalls, f1s):\n",
        "  precision0s, precision1s = desmembra_lista(precisions)\n",
        "  recall0s, recall1s = desmembra_lista(recalls)\n",
        "  f10s, f11s = desmembra_lista(f1s)\n",
        "\n",
        "  plt.title(\"Curva de valicação da Floresta Aleatória\")\n",
        "  plt.xlabel(\"max_depth\")\n",
        "  plt.ylabel(\"Valor\")\n",
        "  plt.plot(max_depth_range_options, precision0s, label=\"precisão 0\")\n",
        "  plt.plot(max_depth_range_options, precision1s, label=\"precisão 1\")\n",
        "  plt.plot(max_depth_range_options, recall0s, label=\"recall 0\")\n",
        "  plt.plot(max_depth_range_options, recall1s, label=\"recall 1\")\n",
        "  plt.plot(max_depth_range_options, f10s, label=\"F1 0\")\n",
        "  plt.plot(max_depth_range_options, f11s, label=\"F1 1\")\n",
        "  plt.legend()"
      ],
      "execution_count": null,
      "outputs": []
    },
    {
      "cell_type": "markdown",
      "metadata": {
        "id": "ubfMuk4N9SXo"
      },
      "source": [
        "#### **Sem balanceamento**"
      ]
    },
    {
      "cell_type": "code",
      "metadata": {
        "colab": {
          "base_uri": "https://localhost:8080/",
          "height": 296
        },
        "id": "kJTlsn1CSfIL",
        "outputId": "54817db8-466a-4fe4-c754-bdcd84d1febc"
      },
      "source": [
        "precisions_train, recalls_train, f1s_train = get_metricas_treino(X_train, y_train)\n",
        "plot_grafico_validacao_depth(max_depth_range_options, precisions_train, recalls_train, f1s_train)"
      ],
      "execution_count": null,
      "outputs": [
        {
          "output_type": "display_data",
          "data": {
            "image/png": "[encoded data removed]",
            "text/plain": [
              "<Figure size 432x288 with 1 Axes>"
            ]
          },
          "metadata": {
            "tags": [],
            "needs_background": "light"
          }
        }
      ]
    },
    {
      "cell_type": "markdown",
      "metadata": {
        "id": "vTJ2ojo99bmU"
      },
      "source": [
        "#### **Conjunto com Oversampling**"
      ]
    },
    {
      "cell_type": "code",
      "metadata": {
        "colab": {
          "base_uri": "https://localhost:8080/",
          "height": 296
        },
        "id": "k06cSvkzdHgd",
        "outputId": "b46740f2-49d7-4628-be7c-b449cf0c8392"
      },
      "source": [
        "precisions_SMOTE, recalls_SMOTE, f1s_SMOTE = get_metricas_treino(X_SMOTE, y_SMOTE)\n",
        "plot_grafico_validacao_depth(max_depth_range_options, precisions_SMOTE, recalls_SMOTE, f1s_SMOTE)"
      ],
      "execution_count": null,
      "outputs": [
        {
          "output_type": "display_data",
          "data": {
            "image/png": "[encoded data removed]",
            "text/plain": [
              "<Figure size 432x288 with 1 Axes>"
            ]
          },
          "metadata": {
            "tags": [],
            "needs_background": "light"
          }
        }
      ]
    },
    {
      "cell_type": "markdown",
      "metadata": {
        "id": "Hnmfv9hj9jLV"
      },
      "source": [
        "#### **Conjunto com Undersampling**\n"
      ]
    },
    {
      "cell_type": "code",
      "metadata": {
        "colab": {
          "base_uri": "https://localhost:8080/",
          "height": 296
        },
        "id": "NrOWppCddHtr",
        "outputId": "3f6b95d8-69ed-438b-f486-ede8d3d9f9bb"
      },
      "source": [
        "precisions_under, recalls_under, f1s_under = get_metricas_treino(X_under, y_under)\n",
        "plot_grafico_validacao_depth(max_depth_range_options, precisions_under, recalls_under, f1s_under)"
      ],
      "execution_count": null,
      "outputs": [
        {
          "output_type": "display_data",
          "data": {
            "image/png": "[encoded data removed]",
            "text/plain": [
              "<Figure size 432x288 with 1 Axes>"
            ]
          },
          "metadata": {
            "tags": [],
            "needs_background": "light"
          }
        }
      ]
    },
    {
      "cell_type": "markdown",
      "metadata": {
        "id": "cR-w4UiZmvH9"
      },
      "source": [
        "#### **Conclusão**\n",
        "\n",
        "Os resultados indicam que, coincidentemente, independente da estratégia, o valor de *max_depth* igual a **30** apresentou os maiores valores de F-measure.\n",
        "O *max_depth* de **30** será utilizado para treinar o modelo que vamos testar no conjunto de testes.\n",
        "\n",
        "Aqui, ainda devemos frizar que os resultados dos modelos durante o treino ainda não são comparáveis entre si devido essas métricas estarem sendo geradas a partir de diferentes conjuntos de treino.\n",
        "Nós poderemos comparar os desempenhos dos modelos gerados pelas diferentes estratégias de balanceamento ao os executarmos sobre o conjunto de testes.\n"
      ]
    },
    {
      "cell_type": "code",
      "metadata": {
        "colab": {
          "base_uri": "https://localhost:8080/"
        },
        "id": "nbJiE0FDAjGE",
        "outputId": "3c8828b0-18b3-4e05-f847-9bb404cacca7"
      },
      "source": [
        "rfs_train = DecisionTreeClassifier(max_depth=30, random_state=1, criterion=\"entropy\")\n",
        "rfs_train.fit(X_train, y_train)\n",
        "\n",
        "rfs_SMOTE = DecisionTreeClassifier(max_depth=30, random_state=1, criterion=\"entropy\")\n",
        "rfs_SMOTE.fit(X_SMOTE, y_SMOTE)\n",
        "\n",
        "rfs_under = DecisionTreeClassifier(max_depth=30, random_state=1, criterion=\"entropy\")\n",
        "rfs_under.fit(X_under, y_under)\n"
      ],
      "execution_count": null,
      "outputs": [
        {
          "output_type": "execute_result",
          "data": {
            "text/plain": [
              "DecisionTreeClassifier(ccp_alpha=0.0, class_weight=None, criterion='entropy',\n",
              "                       max_depth=30, max_features=None, max_leaf_nodes=None,\n",
              "                       min_impurity_decrease=0.0, min_impurity_split=None,\n",
              "                       min_samples_leaf=1, min_samples_split=2,\n",
              "                       min_weight_fraction_leaf=0.0, presort='deprecated',\n",
              "                       random_state=1, splitter='best')"
            ]
          },
          "metadata": {
            "tags": []
          },
          "execution_count": 27
        }
      ]
    },
    {
      "cell_type": "markdown",
      "metadata": {
        "id": "z8fXPSk84AeR"
      },
      "source": [
        "## **Análise dos modelos**\n",
        "\n",
        "Nesta fase nós utilizamos o conjunto de testes para comparar os modelos treinados, nas diferentes abordagens de balanceamento, com os melhores *settings* em termos de recall, precision e F1.\n",
        "Além disso, nós fazemos a análise de importância dos atributos que mais impulsionam o interesse do cliente.\n"
      ]
    },
    {
      "cell_type": "markdown",
      "metadata": {
        "id": "cdURyKfm1mjo"
      },
      "source": [
        "### **Análise de desempenho**\n",
        "\n",
        "Abaixo se encontram um gráfico de barras acompanhado da matriz de confusão indicando o desempenho do modelo de cada abordagem sobre o conjunto de testes.\n"
      ]
    },
    {
      "cell_type": "code",
      "metadata": {
        "id": "sz2a8-3LCID-"
      },
      "source": [
        "from sklearn.metrics import recall_score\n",
        "from sklearn.metrics import precision_score\n",
        "from sklearn.metrics import f1_score\n",
        "\n",
        "def get_metricas_teste(modelo):\n",
        "  predicoes = modelo.predict(X_test)\n",
        "  recall = recall_score(y_test, predicoes)\n",
        "  precision = precision_score(y_test, predicoes)\n",
        "  f1 = f1_score(y_test, predicoes)\n",
        "  return precision, recall, f1\n",
        "  \n",
        "metricas_train = get_metricas_teste(rfs_train)\n",
        "metricas_SMOTE = get_metricas_teste(rfs_SMOTE)\n",
        "metricas_under = get_metricas_teste(rfs_under)"
      ],
      "execution_count": null,
      "outputs": []
    },
    {
      "cell_type": "code",
      "metadata": {
        "colab": {
          "base_uri": "https://localhost:8080/",
          "height": 297
        },
        "id": "FcpDhE6EB3Oe",
        "outputId": "b66e8652-3211-4334-ecca-a139e955ed95"
      },
      "source": [
        "x = np.arange(len(scoring)) \n",
        "width = 0.2  # o width das barras\n",
        "\n",
        "fig, ax = plt.subplots()\n",
        "rects1 = ax.bar(x - width/3, metricas_train, width, label='Sem balanceamento')\n",
        "rects2 = ax.bar(x, metricas_SMOTE, width, label='SMOTE')\n",
        "rects3 = ax.bar(x + width/3, metricas_under, width, label='under')\n",
        "\n",
        "ax.set_ylabel('Valor')\n",
        "ax.set_title('Valor da métrica por estratégia de balanceamento')\n",
        "ax.set_xticks(x)\n",
        "ax.set_xticklabels(scoring)\n",
        "ax.legend()\n",
        "\n",
        "fig.tight_layout()"
      ],
      "execution_count": null,
      "outputs": [
        {
          "output_type": "display_data",
          "data": {
            "image/png": "[encoded data removed]",
            "text/plain": [
              "<Figure size 432x288 with 1 Axes>"
            ]
          },
          "metadata": {
            "tags": [],
            "needs_background": "light"
          }
        }
      ]
    },
    {
      "cell_type": "code",
      "metadata": {
        "id": "-IjHf0rSB7Kz"
      },
      "source": [
        "from sklearn.metrics import confusion_matrix\n",
        "\n",
        "def plot_matriz_confusao(modelo):\n",
        "  predicoes = modelo.predict(X_test)\n",
        "  cm = confusion_matrix(y_test, predicoes)\n",
        "\n",
        "  predito = [\"não interessado (pred)\", \"interessado (pred)\"]\n",
        "  real = [\"não interessado (real) \", \"interessado (real)\"]          \n",
        "\n",
        "  fig, ax = plt.subplots()\n",
        "  im = ax.imshow(cm)\n",
        "\n",
        "  ax.set_xticks(np.arange(len(predito)))\n",
        "  ax.set_yticks(np.arange(len(real)))\n",
        "\n",
        "  ax.set_xticklabels(predito)\n",
        "  ax.set_yticklabels(real)\n",
        "\n",
        "  plt.setp(ax.get_xticklabels(), rotation=45, ha=\"right\", rotation_mode=\"anchor\")\n",
        "\n",
        "  for i in range(len(real)):\n",
        "      for j in range(len(predito)):\n",
        "          text = ax.text(j, i, cm[i, j], ha=\"center\", va=\"center\", color=\"w\")\n",
        "\n",
        "  ax.set_title(\"Real x Predito\")\n",
        "  plt.show()"
      ],
      "execution_count": null,
      "outputs": []
    },
    {
      "cell_type": "markdown",
      "metadata": {
        "id": "D6gZuoujta1Q"
      },
      "source": [
        "#### **Matriz de confusão - Sem balanceamento**"
      ]
    },
    {
      "cell_type": "code",
      "metadata": {
        "colab": {
          "base_uri": "https://localhost:8080/",
          "height": 359
        },
        "id": "quvJ8v0uBa7V",
        "outputId": "54416cd5-aa5c-47a4-b3d8-590dbeb0d7cd"
      },
      "source": [
        "mc_train = plot_matriz_confusao(rfs_train)"
      ],
      "execution_count": null,
      "outputs": [
        {
          "output_type": "display_data",
          "data": {
            "image/png": "[encoded data removed]",
            "text/plain": [
              "<Figure size 432x288 with 1 Axes>"
            ]
          },
          "metadata": {
            "tags": [],
            "needs_background": "light"
          }
        }
      ]
    },
    {
      "cell_type": "markdown",
      "metadata": {
        "id": "zitgXQTvt6nb"
      },
      "source": [
        "#### **Matriz de confusão - Conjunto com Oversampling**"
      ]
    },
    {
      "cell_type": "code",
      "metadata": {
        "colab": {
          "base_uri": "https://localhost:8080/",
          "height": 359
        },
        "id": "Bby3V58J9loW",
        "outputId": "33c53b8e-6bcf-432e-c0e7-c22bc8a1f426"
      },
      "source": [
        "mc_SMOTE = plot_matriz_confusao(rfs_SMOTE)"
      ],
      "execution_count": null,
      "outputs": [
        {
          "output_type": "display_data",
          "data": {
            "image/png": "[encoded data removed]",
            "text/plain": [
              "<Figure size 432x288 with 1 Axes>"
            ]
          },
          "metadata": {
            "tags": [],
            "needs_background": "light"
          }
        }
      ]
    },
    {
      "cell_type": "markdown",
      "metadata": {
        "id": "g1KmY3ZTuBkc"
      },
      "source": [
        "#### **Matriz de confusão - Conjunto com Undersampling**"
      ]
    },
    {
      "cell_type": "code",
      "metadata": {
        "colab": {
          "base_uri": "https://localhost:8080/",
          "height": 359
        },
        "id": "WdZv9ip6B2kw",
        "outputId": "bc0978b0-2bc4-4447-ab25-8b3e031ef9a6"
      },
      "source": [
        "mc_under = plot_matriz_confusao(rfs_under)"
      ],
      "execution_count": null,
      "outputs": [
        {
          "output_type": "display_data",
          "data": {
            "image/png": "[encoded data removed]",
            "text/plain": [
              "<Figure size 432x288 with 1 Axes>"
            ]
          },
          "metadata": {
            "tags": [],
            "needs_background": "light"
          }
        }
      ]
    },
    {
      "cell_type": "markdown",
      "metadata": {
        "id": "HIrXHAOTodyW"
      },
      "source": [
        "#### **Conclusão**\n",
        "\n",
        "Os resultados indicam que as diferentes estratégias de balanceamento de dados influenciaram os valores de recall, precision e F1 de formas diferentes.\n",
        "O modelo que não foi balanceado apresenta o maior valor de precision, embora com baixo recall. O precision alto se dá pela quantidade de verdadeiros positivos encontrados, principalmente da classe majoritária (registros de não interesse no produto). Já o recall baixo reflete a dificuldade em recuperar grande parte da classe minoritária (registros de interesse no produto).\n",
        "\n",
        "Os modelos balanceados (i.e., *Oversampling* e *Undersampling*) apresentam resultados semelhantes entre si e inversos ao modelo não balanceado: alto recall com baixa precision, sendo o modelo baseado em *Undersampling* o que apresenta o maior recall e o de *Oversampling* o maior precision.\n",
        "Esses modelos recuperam com sucesso bastante casos da classe minoritária com o custo de errar a classificação de casos da classe majoritária.\n",
        "Em termos de F1, os três modelos dispõem de resultados semelhantes.\n",
        "\n",
        "No mundo real, apenas um dos modelos poderia ir pra produção, sendo a escolha do modelo provavelmente relacionada ao valor que os resultados dele trazem para a empresa e no *trade-off* entre precision e recall.\n",
        "Uma precision alta indica que as classificações de uma classe de interesse tendem a estar corretas, mesmo que nós identifiquemos poucos casos da classe de interesse dentre a quantidade total de casos classificados.\n",
        "Um recall alto, em contrapartida, indica que estamos identificando muitos casos de interesse dentre o total de casos, mesmo que estejamos também errando algumas classificações de interesse (e.g., classificando um registro como sendo de interesse quando ela, na verdade, não é).\n",
        "Considerando que, no contexto que estamos trabalhando, o recall seja uma métrica mais importante que o precision, devido querermos identificar o máximo de sessões em que o cliente pode estar interessado num produto, o modelo baseado em *Undersampling* seria o escolhido para ser executado em produção e é a abordagem que utilizaremos para analisar os atributos que mais impulsionam o interesse do cliente. \n"
      ]
    },
    {
      "cell_type": "markdown",
      "metadata": {
        "id": "R5uVoLqOuGIw"
      },
      "source": [
        "### **Análise de atributos importantes para o interesse**\n",
        "\n",
        "Nesta seção, nós verificamos quais *features* foram mais importantes para a classificação de uma sessão como \"interesse\" ou \"não interesse\" num produto.\n",
        "Abaixo apresentamos um gráfico de barras indicando as importâncias de cada *feature* e os primeiros nós da nossa árvore de decisão, em forma gráfica e em texto, onde podemos identificar o valor utilizado para dividir os registros.\n"
      ]
    },
    {
      "cell_type": "code",
      "metadata": {
        "id": "bg08Vee618xr"
      },
      "source": [
        "from sklearn.tree import plot_tree\n",
        "from sklearn.tree import export_text\n",
        "\n",
        "def plot_importancia(modelo, n_features):\n",
        "  df = pd.DataFrame({\"importancia\":modelo.feature_importances_}, index=X_train.columns)\n",
        "  df = df.sort_values(by=\"importancia\",ascending=False).head(n_features)\n",
        "  df.plot.barh()\n",
        "\n",
        "def plot_arvore(modelo, max_depth):\n",
        "  from matplotlib.pyplot import figure\n",
        "  figure(num=None, figsize=(20, 10), dpi=80, facecolor='w', edgecolor='k')\n",
        "  plot_tree(modelo, max_depth = max_depth, feature_names = X_train.columns)\n",
        "\n",
        "def plot_arvore_texto(modelo, max_depth):\n",
        "  print(export_text(modelo, max_depth=max_depth, show_weights=True, feature_names=X_train.columns.array))"
      ],
      "execution_count": null,
      "outputs": []
    },
    {
      "cell_type": "markdown",
      "metadata": {
        "id": "GyjSdx0g9CZh"
      },
      "source": [
        "#### **Features mais importantes**"
      ]
    },
    {
      "cell_type": "code",
      "metadata": {
        "colab": {
          "base_uri": "https://localhost:8080/",
          "height": 265
        },
        "id": "7UMeBqPR3PE0",
        "outputId": "fef8c99c-5146-4a01-c8ff-1b258daf621b"
      },
      "source": [
        "plot_importancia(rfs_under, 10)"
      ],
      "execution_count": null,
      "outputs": [
        {
          "output_type": "display_data",
          "data": {
            "image/png": "[encoded data removed]",
            "text/plain": [
              "<Figure size 432x288 with 1 Axes>"
            ]
          },
          "metadata": {
            "tags": [],
            "needs_background": "light"
          }
        }
      ]
    },
    {
      "cell_type": "markdown",
      "metadata": {
        "id": "g6npDWDo9Ojg"
      },
      "source": [
        "O ITEM_PRICE é a *feature* mais importante para impulsionar o interesse dos clientes, apresentando valor de importâcia, para a classificação, superior a 0.5.\n",
        "Em seguida, aparecem PESO, CAPACIDADE_(L), PROFUNDIDADE, LARGURA, ALTURA, respectivamente, que somados contribuem com mais aproximadamente 0.3 de importância.\n",
        "O modelo indica, portanto, que as *features* quantitativas tiveram peso significativamente maior que as categóricas para classificar uma sessão como em interesse no produto.\n"
      ]
    },
    {
      "cell_type": "markdown",
      "metadata": {
        "id": "jqWi684V2WvC"
      },
      "source": [
        "#### **Valores que mais impulsionam o interesse**\n",
        "\n",
        "Uma forma de verificar o valor das *features* que divide as sessões com possíveis interessados de não interessados é checar as regras que foram usadas na construção da árvore de decisão.\n",
        "Abaixo nós plotamos parte da árvore de decisão indicando os valores e as regras que foram utilizadas.\n"
      ]
    },
    {
      "cell_type": "code",
      "metadata": {
        "colab": {
          "base_uri": "https://localhost:8080/",
          "height": 596
        },
        "id": "Igx7Tm2zAN0p",
        "outputId": "70bc6873-f962-4684-95e4-5a3eebb0d375"
      },
      "source": [
        "plot_arvore(rfs_under, 2)"
      ],
      "execution_count": null,
      "outputs": [
        {
          "output_type": "display_data",
          "data": {
            "image/png": "[encoded data removed]",
            "text/plain": [
              "<Figure size 1600x800 with 1 Axes>"
            ]
          },
          "metadata": {
            "tags": []
          }
        }
      ]
    },
    {
      "cell_type": "code",
      "metadata": {
        "colab": {
          "base_uri": "https://localhost:8080/"
        },
        "id": "55l32LVdpy7u",
        "outputId": "15cdeecf-cff0-4654-bc21-8bfa254d80cf"
      },
      "source": [
        "plot_arvore_texto(rfs_under,3)"
      ],
      "execution_count": null,
      "outputs": [
        {
          "output_type": "stream",
          "text": [
            "|--- ITEM_PRICE <= 27.06\n",
            "|   |--- PESO <= 385.00\n",
            "|   |   |--- PROFUNDIDADE <= 23.50\n",
            "|   |   |   |--- CAPACIDADE_(L) <= 1.82\n",
            "|   |   |   |   |--- truncated branch of depth 4\n",
            "|   |   |   |--- CAPACIDADE_(L) >  1.82\n",
            "|   |   |   |   |--- weights: [0.00, 3.00] class: 1.0\n",
            "|   |   |--- PROFUNDIDADE >  23.50\n",
            "|   |   |   |--- CAPACIDADE_(L) <= 2.85\n",
            "|   |   |   |   |--- truncated branch of depth 7\n",
            "|   |   |   |--- CAPACIDADE_(L) >  2.85\n",
            "|   |   |   |   |--- weights: [0.00, 8.00] class: 1.0\n",
            "|   |--- PESO >  385.00\n",
            "|   |   |--- MARCA_VEC <= 0.50\n",
            "|   |   |   |--- MARCA_BRINOX <= 0.50\n",
            "|   |   |   |   |--- truncated branch of depth 8\n",
            "|   |   |   |--- MARCA_BRINOX >  0.50\n",
            "|   |   |   |   |--- truncated branch of depth 13\n",
            "|   |   |--- MARCA_VEC >  0.50\n",
            "|   |   |   |--- weights: [0.00, 392.00] class: 1.0\n",
            "|--- ITEM_PRICE >  27.06\n",
            "|   |--- ITEM_PRICE <= 249.20\n",
            "|   |   |--- CAPACIDADE_(L) <= 3.55\n",
            "|   |   |   |--- ITEM_PRICE <= 180.26\n",
            "|   |   |   |   |--- truncated branch of depth 27\n",
            "|   |   |   |--- ITEM_PRICE >  180.26\n",
            "|   |   |   |   |--- truncated branch of depth 21\n",
            "|   |   |--- CAPACIDADE_(L) >  3.55\n",
            "|   |   |   |--- ITEM_PRICE <= 179.99\n",
            "|   |   |   |   |--- truncated branch of depth 27\n",
            "|   |   |   |--- ITEM_PRICE >  179.99\n",
            "|   |   |   |   |--- truncated branch of depth 17\n",
            "|   |--- ITEM_PRICE >  249.20\n",
            "|   |   |--- PROFUNDIDADE <= 53.00\n",
            "|   |   |   |--- PARA_MICRO_ONDAS_yes <= 0.50\n",
            "|   |   |   |   |--- truncated branch of depth 27\n",
            "|   |   |   |--- PARA_MICRO_ONDAS_yes >  0.50\n",
            "|   |   |   |   |--- truncated branch of depth 8\n",
            "|   |   |--- PROFUNDIDADE >  53.00\n",
            "|   |   |   |--- CAPACIDADE_(L) <= 3.15\n",
            "|   |   |   |   |--- weights: [24.00, 0.00] class: 0.0\n",
            "|   |   |   |--- CAPACIDADE_(L) >  3.15\n",
            "|   |   |   |   |--- truncated branch of depth 17\n",
            "\n"
          ],
          "name": "stdout"
        }
      ]
    },
    {
      "cell_type": "markdown",
      "metadata": {
        "id": "o2Xa8vjG2DSH"
      },
      "source": [
        "Rapidamente é possível identificar, por exemplo, que o número de sessões com interesse no produto se torna maior que o número de não interesados a medida que o ITEM_PRICE diminui.\n",
        "Na árvore, nota-se o maior número de interessados que de não interessados quando se filtra os registros com ITEM_PRICE menor que 27.\n",
        "Ao mesmo tempo, quando se filtra registros com ITEM_PRICE maior que 249, o número de não interessados chega ao dobro do de interessados.\n",
        "\n",
        "Análises semelhantes podem ser realizadas para as *features*."
      ]
    },
    {
      "cell_type": "markdown",
      "metadata": {
        "id": "KMO76fV29CZg"
      },
      "source": [
        "#### **Comparação de importância de features com os demais modelos**\n",
        "A título de curiosidade, vamos verificar quais são as features mais importantes para os demais modelos (i.e., sem balanceamento e com *Oversampling*).\n",
        "Abaixo plotamos as 10 features mais importantes para cada um deles."
      ]
    },
    {
      "cell_type": "code",
      "metadata": {
        "colab": {
          "base_uri": "https://localhost:8080/",
          "height": 265
        },
        "id": "_mHku0voC9cm",
        "outputId": "844bcb3e-dc27-40e7-b958-6e46a3732b48"
      },
      "source": [
        "plot_importancia(rfs_train, 10)"
      ],
      "execution_count": null,
      "outputs": [
        {
          "output_type": "display_data",
          "data": {
            "image/png": "[encoded data removed]",
            "text/plain": [
              "<Figure size 432x288 with 1 Axes>"
            ]
          },
          "metadata": {
            "tags": [],
            "needs_background": "light"
          }
        }
      ]
    },
    {
      "cell_type": "code",
      "metadata": {
        "colab": {
          "base_uri": "https://localhost:8080/",
          "height": 265
        },
        "id": "oL6ZisusHU-A",
        "outputId": "d2c72a0b-dda0-4505-d5ea-3089241a0414"
      },
      "source": [
        "plot_importancia(rfs_SMOTE, 10)"
      ],
      "execution_count": null,
      "outputs": [
        {
          "output_type": "display_data",
          "data": {
            "image/png": "[encoded data removed]",
            "text/plain": [
              "<Figure size 432x288 with 1 Axes>"
            ]
          },
          "metadata": {
            "tags": [],
            "needs_background": "light"
          }
        }
      ]
    },
    {
      "cell_type": "markdown",
      "metadata": {
        "id": "zmXAeYJ2HdKv"
      },
      "source": [
        "É fácil perceber que os três modelos concordam que o ITEM_PRICE é a feature mais importante para fazer essa classificação, seguida de PESO E CAPACIDADE_(L), PROFUNDIDADE, ALTURA e LARGURA, com as últimas não necessariamente aparecendo nessa ordem.\n",
        "TEMPO_GARANTIA aparece com mais importância no modelo de *Oversampling* que nos demais."
      ]
    },
    {
      "cell_type": "markdown",
      "metadata": {
        "id": "7Dc7VTSw-DM-"
      },
      "source": [
        "## **Discussão de Caminhos Alternativos**\n",
        "\n",
        "Durante o desenvolvimento desse modelo, nós tomamos várias decisões e explicamos a motivação de cada uma delas.\n",
        "Ainda assim, há outros caminhos/métodos que poderiam ser testados e nós gostaríamos de destacá-los rapidamente aqui.\n",
        "\n",
        "1. **Feature Selection**. Nós fizemos análise de importância de *features* após o modelo estar pronto. No entanto, essa análise também poderia ter sido feita previamente à fase de treinamento do modelo, servindo de filtro para identificar *features* que poderiam ser descartados sem trazer prejuízo ao desempenho do modelo. Nós seguimos sem essa análise prévia devido entendermos que o descarte de *features* exige conhecimento de contexto por parte do analista e acreditarmos que não temos o suficiente para fazê-lo ainda.\n",
        "2. **Normalização dos valores**. Por estarmos utilizando Árvores de Decisão, que não são afetadas por transformações monotônicas, nós não tivemos que nos preocupar com normalização dos valores quantitativos. No entanto, se tivéssemos tomado um caminho diferente, por exemplo, utilizando redes neurais, isso seria necessário.\n",
        "3. **Redes Neurais**. Redes Neurais são ferramentas fortíssimas e estado-da-arte em diversas tarefas, tais como classificação de texto e imagens. A aplicação de alguma técnica com rede neural poderia ser adotada nessa tarefa também com a finalidade de testar o seu desempenho. Nós descartamos essa alternativa inicialmente por entender que o modelos interpretáveis seriam mais adequados no momento, e que mesmo com ferramentas como o LIME ou SHAP, para fazer a explicação das redes neurais, elas ainda não são tão interpretáveis quanto uma Árvore de Decisão.\n",
        "Além disso, o custo computacional para treinar uma rede neural é comumente alto.\n",
        "4. **Teste de hipóteses**. Essa base de dados é rica e pode servir também para fins alternativos ao da classificação que executamos. A aplicação de testes de hipóteses, por exemplo, respondendo perguntas como \"O produto da marca X é mais caro que o da marca Y?\" pode ter valor para a empresa e para as marcas envolvidas.\n"
      ]
    },
    {
      "cell_type": "code",
      "metadata": {
        "id": "5EykuMLNNgOF"
      },
      "source": [],
      "execution_count": null,
      "outputs": []
    }
  ]
}